{
 "cells": [
  {
   "cell_type": "markdown",
   "metadata": {
    "id": "kfd8WQ2DatgS"
   },
   "source": [
    "## Introducción\n",
    "\n",
    "Importamos librerías y bases de datos que vamos a usar.\n",
    "\n",
    "Pendientes para este código:\n",
    "\n",
    "1. Hacer el mismo trabajo que hicimos con la base de 2 ambientes para la base de 3 ambientes.\n",
    "2. Incluir otras variables además de salarios RIPTE"
   ]
  },
  {
   "cell_type": "code",
   "execution_count": null,
   "metadata": {},
   "outputs": [],
   "source": [
    "# Instalar librerías en las versiones utilizadas en este trabajo\n",
    "!pip install -r requirements.txt"
   ]
  },
  {
   "cell_type": "code",
   "execution_count": 31,
   "metadata": {
    "id": "-CxQpDj0Gw6t"
   },
   "outputs": [],
   "source": [
    "# Importamos librerías\n",
    "import pandas as pd\n",
    "import matplotlib.pyplot as plt\n",
    "import numpy as np\n",
    "import os"
   ]
  },
  {
   "cell_type": "code",
   "execution_count": 32,
   "metadata": {},
   "outputs": [],
   "source": [
    "# Cargamos bases\n",
    "ruta_base = os.path.join(os.pardir, \"Bases\")\n",
    "df_2amb = pd.read_excel(ruta_base + \"/Bases IDECBA/2amb.xlsx\")\n",
    "df_3amb = pd.read_excel(ruta_base + \"/Bases IDECBA/3amb.xlsx\")\n",
    "df_ipc = pd.read_excel(ruta_base + \"/Bases auxiliares/IPC_Trimestral.xlsx\")\n",
    "df_ripte = pd.read_excel(ruta_base + \"/Bases auxiliares/base_ripte.xlsx\")\n"
   ]
  },
  {
   "cell_type": "markdown",
   "metadata": {
    "id": "BDMSZWLFTROz"
   },
   "source": [
    "## Base auxiliar IPC\n",
    "\n",
    "Trabajamos con la base del IPC trimestral para calcular la variación de cada trimestre con respecto al 1T 2018, el primero de nuestra base de precios de alquileres.\n",
    "\n",
    "Esto nos va a servir para después deflactar los valores de las otras series (alquileres 2 y 3 ambientes y salarios RIPTE)."
   ]
  },
  {
   "cell_type": "code",
   "execution_count": null,
   "metadata": {
    "colab": {
     "base_uri": "https://localhost:8080/"
    },
    "collapsed": true,
    "executionInfo": {
     "elapsed": 51,
     "status": "ok",
     "timestamp": 1733955213097,
     "user": {
      "displayName": "Emilia Tamburri",
      "userId": "17117273758502134592"
     },
     "user_tz": 180
    },
    "id": "kBpeBth9bsQW",
    "outputId": "1ca3b4bb-fa84-49ac-822f-e645a4cb7062"
   },
   "outputs": [],
   "source": [
    "# Calculamos la variación del IPC para cada trimestre desde el primer trimestre\n",
    "# Guardamos el valor base que voy a usar en el loop\n",
    "b1T18 = df_ipc['IPC_trim_b1t16'][0]\n",
    "\n",
    "# Creamos una columna nueva con valores nulos\n",
    "df_ipc['inf_b1t18'] = np.nan\n",
    "\n",
    "# Guardamos la columna para usar en el loop\n",
    "column = 'IPC_trim_b1t16'\n",
    "\n",
    "# Calculamos la variación respecto al valor base para cada fila\n",
    "for row in range(1, len(df_ipc['Trimestre'])):\n",
    "  df_ipc['inf_b1t18'][row] = (df_ipc[column][row] - b1T18)/b1T18"
   ]
  },
  {
   "cell_type": "markdown",
   "metadata": {
    "id": "cUedRVH2UTDW"
   },
   "source": [
    "## Base salarios RIPTE\n",
    "\n",
    "Trabajamos con la base de salarios RIPTE trimestral para obtener sus valores a precios del 1T 2018, usando la variación de la inflación que calculamos antes con la base IPC. Luego, convertimos esos valores a base 100 = 1T 2018."
   ]
  },
  {
   "cell_type": "code",
   "execution_count": null,
   "metadata": {
    "colab": {
     "base_uri": "https://localhost:8080/"
    },
    "collapsed": true,
    "executionInfo": {
     "elapsed": 48,
     "status": "ok",
     "timestamp": 1733955213097,
     "user": {
      "displayName": "Emilia Tamburri",
      "userId": "17117273758502134592"
     },
     "user_tz": 180
    },
    "id": "Zrn6T2HKlnAC",
    "outputId": "904ffc50-eeed-4e17-ae9b-6c7cb66a98e2"
   },
   "outputs": [],
   "source": [
    "# Calculamos el salario a valores de 1T 2018 para cada trimestre\n",
    "# Creamos una columna con valores nulos\n",
    "df_ripte['sal_ajustado_b1t18'] = np.nan\n",
    "\n",
    "# Seleccionamos la columna que voy a usar en el loop\n",
    "column = 'inf_b1t18'\n",
    "\n",
    "# Hacemos un loop para calcular los salarios a valores de 1T 2018 para cada trimestre\n",
    "for fila in range(1, len(df_ripte['Trimestre'])): #itera filas\n",
    "    precio_nominal = df_ripte['salario_ripte'][fila]\n",
    "    df_ripte['sal_ajustado_b1t18'][fila] = precio_nominal/(1+df_ipc[column][fila]) # el index de las filas de df_ipc y df_ripte es el mismo"
   ]
  },
  {
   "cell_type": "code",
   "execution_count": null,
   "metadata": {
    "colab": {
     "base_uri": "https://localhost:8080/"
    },
    "collapsed": true,
    "executionInfo": {
     "elapsed": 35,
     "status": "ok",
     "timestamp": 1733955213097,
     "user": {
      "displayName": "Emilia Tamburri",
      "userId": "17117273758502134592"
     },
     "user_tz": 180
    },
    "id": "YMUdQ6Bsow7S",
    "outputId": "4f498c3d-954a-41d4-eea4-b6b5195e4284"
   },
   "outputs": [],
   "source": [
    "# Seteamos el valor correspondiente al 1T 2018 = valor original, dado que es el valor de referencia\n",
    "df_ripte['sal_ajustado_b1t18'][0] = df_ripte['salario_ripte'][0]"
   ]
  },
  {
   "cell_type": "code",
   "execution_count": null,
   "metadata": {
    "colab": {
     "base_uri": "https://localhost:8080/"
    },
    "collapsed": true,
    "executionInfo": {
     "elapsed": 25,
     "status": "ok",
     "timestamp": 1733955213097,
     "user": {
      "displayName": "Emilia Tamburri",
      "userId": "17117273758502134592"
     },
     "user_tz": 180
    },
    "id": "9gltiynwpn8P",
    "outputId": "497e92b2-8045-45ad-ff80-afe5e8292940"
   },
   "outputs": [],
   "source": [
    "# Calculamos los salarios a valores de 1T 2018 con base 100 = 1T 2018\n",
    "# Creamos una columna nueva\n",
    "df_ripte['sal_ajustado_b100_1t18'] = np.nan\n",
    "\n",
    "# Guardamos el valor de referencia que voy a usar en el loop\n",
    "sal_1t18 = df_ripte['sal_ajustado_b1t18'][0]\n",
    "\n",
    "for fila in range(1, len(df_ripte['Trimestre'])): #itera filas\n",
    "  precio = df_ripte['sal_ajustado_b1t18'][fila]\n",
    "  df_ripte['sal_ajustado_b100_1t18'][fila] = precio*100/sal_1t18"
   ]
  },
  {
   "cell_type": "code",
   "execution_count": null,
   "metadata": {
    "colab": {
     "base_uri": "https://localhost:8080/"
    },
    "collapsed": true,
    "executionInfo": {
     "elapsed": 22,
     "status": "ok",
     "timestamp": 1733955213098,
     "user": {
      "displayName": "Emilia Tamburri",
      "userId": "17117273758502134592"
     },
     "user_tz": 180
    },
    "id": "ISUCLliXqhI2",
    "outputId": "ed9ebfdf-dbde-4e95-a3fe-81301c304ecf"
   },
   "outputs": [],
   "source": [
    "# Seteamos el salario del 1T 2018 = 100\n",
    "df_ripte['sal_ajustado_b100_1t18'][0] = 100"
   ]
  },
  {
   "cell_type": "markdown",
   "metadata": {
    "id": "hAN--lttTESp"
   },
   "source": [
    "## Base 2 ambientes\n",
    "\n",
    "Empieza el trabajo con las bases del GCBA, en particular con la de 2 ambientes. Transponemos los datos para que quede una comuna por columna y que cada fila sea un trimestre desde 1T 2018 hasta 1T 2024, como el resto de las bases con las que trabajamos. Calculamos los precios para cada columna a precios del 1T 2018 (primera fila de cada columna). Luego, transformamos esos valores a base 100 = 1T 2018 para que sean comparables entre sí y con la serie de salarios."
   ]
  },
  {
   "cell_type": "code",
   "execution_count": null,
   "metadata": {
    "colab": {
     "base_uri": "https://localhost:8080/"
    },
    "executionInfo": {
     "elapsed": 13,
     "status": "ok",
     "timestamp": 1733955213098,
     "user": {
      "displayName": "Emilia Tamburri",
      "userId": "17117273758502134592"
     },
     "user_tz": 180
    },
    "id": "l1uooOgiuCD7",
    "outputId": "823d2d54-707c-420d-9d90-fd6f544b22ad"
   },
   "outputs": [],
   "source": [
    "# Convertimos nulos a NaN\n",
    "df_2amb = df_2amb.replace({\"///\": np.nan})"
   ]
  },
  {
   "cell_type": "code",
   "execution_count": null,
   "metadata": {
    "colab": {
     "base_uri": "https://localhost:8080/"
    },
    "executionInfo": {
     "elapsed": 11,
     "status": "ok",
     "timestamp": 1733955213098,
     "user": {
      "displayName": "Emilia Tamburri",
      "userId": "17117273758502134592"
     },
     "user_tz": 180
    },
    "id": "4mLRN4DAuGxo",
    "outputId": "aa421008-14b1-4102-abe6-d7f5fa067a79"
   },
   "outputs": [],
   "source": [
    "# Transponemos base 2amb, reseteamos index y cambiamos el nombre de las columnas\n",
    "df2_trans = df_2amb.transpose()\n",
    "df2_trans = df2_trans.reset_index()\n",
    "df2_trans['index'][0] = 'Trimestre'\n",
    "df2_trans.columns = df2_trans.iloc[0]\n",
    "df2_trans = df2_trans.drop(0)\n",
    "df2_trans = df2_trans.reset_index(drop=True)"
   ]
  },
  {
   "cell_type": "code",
   "execution_count": 40,
   "metadata": {
    "id": "S6p_wpHBhJvB"
   },
   "outputs": [],
   "source": [
    "# Creamos df nuevo para calcular los precios indexados al 1T 2018\n",
    "# Copiamos el df de 2 ambiente, dado que vamos a usar las mismas columnas\n",
    "df_2amb_index_1t18 = df2_trans"
   ]
  },
  {
   "cell_type": "code",
   "execution_count": 41,
   "metadata": {
    "id": "g5MINy5_mqsH"
   },
   "outputs": [],
   "source": [
    "# Seleccionamos columna para usar en el loop\n",
    "column = 'inf_b1t18'"
   ]
  },
  {
   "cell_type": "code",
   "execution_count": null,
   "metadata": {
    "colab": {
     "base_uri": "https://localhost:8080/"
    },
    "executionInfo": {
     "elapsed": 9,
     "status": "ok",
     "timestamp": 1733955213098,
     "user": {
      "displayName": "Emilia Tamburri",
      "userId": "17117273758502134592"
     },
     "user_tz": 180
    },
    "id": "i8nevTivloZz",
    "outputId": "1d78517d-0b35-4174-eb92-415a1f95dc59"
   },
   "outputs": [],
   "source": [
    "# Calculamos el precio a precios de 1T 2018 para cada comuna y trimestre\n",
    "for comuna in range(1, 16): #itera columnas (comunas)\n",
    "  for fila in range(1, len(df_2amb_index_1t18['Trimestre'])): #itera filas\n",
    "    precio_nominal = df_2amb_index_1t18[comuna][fila]\n",
    "    df_2amb_index_1t18[comuna][fila] = precio_nominal/(1+df_ipc[column][fila]) # el index de las filas de df_ipc y df_2amb_index_1t18 es el mismo"
   ]
  },
  {
   "cell_type": "code",
   "execution_count": null,
   "metadata": {
    "colab": {
     "base_uri": "https://localhost:8080/"
    },
    "executionInfo": {
     "elapsed": 7,
     "status": "ok",
     "timestamp": 1733955213098,
     "user": {
      "displayName": "Emilia Tamburri",
      "userId": "17117273758502134592"
     },
     "user_tz": 180
    },
    "id": "qBHTltZon74z",
    "outputId": "31f4905f-0d2c-4bbf-89b4-b4956caf4756"
   },
   "outputs": [],
   "source": [
    "# Calculamos lo mismo para la columna \"Total\"\n",
    "for fila in range(1, len(df_2amb_index_1t18['Trimestre'])): #itera filas\n",
    "    precio_nominal = df_2amb_index_1t18['Total'][fila]\n",
    "    df_2amb_index_1t18['Total'][fila] = precio_nominal/(1+df_ipc[column][fila]) # el index de las filas de df_ipc y df_2amb_index_1t18 es el mismo"
   ]
  },
  {
   "cell_type": "code",
   "execution_count": null,
   "metadata": {
    "colab": {
     "base_uri": "https://localhost:8080/",
     "height": 915
    },
    "executionInfo": {
     "elapsed": 334,
     "status": "ok",
     "timestamp": 1733955213427,
     "user": {
      "displayName": "Emilia Tamburri",
      "userId": "17117273758502134592"
     },
     "user_tz": 180
    },
    "id": "hBxOocWOnRVK",
    "outputId": "be189dd4-0ab0-4157-8498-cbfeb83b6518"
   },
   "outputs": [],
   "source": [
    "df_2amb_index_1t18"
   ]
  },
  {
   "cell_type": "code",
   "execution_count": 45,
   "metadata": {
    "id": "BEWV-TLCpVKK"
   },
   "outputs": [],
   "source": [
    "# Creamos un df nuevo para base 100 = 1T 2018\n",
    "df_2amb_b100_1t18 = df_2amb_index_1t18"
   ]
  },
  {
   "cell_type": "code",
   "execution_count": null,
   "metadata": {
    "colab": {
     "base_uri": "https://localhost:8080/"
    },
    "executionInfo": {
     "elapsed": 257,
     "status": "ok",
     "timestamp": 1733956508507,
     "user": {
      "displayName": "Emilia Tamburri",
      "userId": "17117273758502134592"
     },
     "user_tz": 180
    },
    "id": "TrF_S25KpxqT",
    "outputId": "1e143428-2564-4274-c175-4fce5edffdf3"
   },
   "outputs": [],
   "source": [
    "# Calculamos el precio a precios de 1T 2018 con base 100 = 1T 2018\n",
    "for comuna in range(1, 16): #itera columnas (comunas)\n",
    "  precio_1t18_comuna = df_2amb_b100_1t18[comuna][0] # Guardo el valor de referencia para cada columna\n",
    "  for fila in range(1, len(df_2amb_b100_1t18['Trimestre'])): #itera filas\n",
    "    precio = df_2amb_b100_1t18[comuna][fila]\n",
    "    df_2amb_b100_1t18[comuna][fila] = precio*100/precio_1t18_comuna"
   ]
  },
  {
   "cell_type": "code",
   "execution_count": null,
   "metadata": {
    "colab": {
     "base_uri": "https://localhost:8080/"
    },
    "executionInfo": {
     "elapsed": 247,
     "status": "ok",
     "timestamp": 1733956511269,
     "user": {
      "displayName": "Emilia Tamburri",
      "userId": "17117273758502134592"
     },
     "user_tz": 180
    },
    "id": "wlZzze0Asbm-",
    "outputId": "7bcf4fa9-c4bc-49ca-f8c6-5906312b4bc7"
   },
   "outputs": [],
   "source": [
    "# Cambiamos los valores de referencia a 100\n",
    "for comuna in range(1, 16):\n",
    "  df_2amb_b100_1t18[comuna][0] = 100"
   ]
  },
  {
   "cell_type": "code",
   "execution_count": null,
   "metadata": {
    "colab": {
     "base_uri": "https://localhost:8080/"
    },
    "executionInfo": {
     "elapsed": 379,
     "status": "ok",
     "timestamp": 1733956513799,
     "user": {
      "displayName": "Emilia Tamburri",
      "userId": "17117273758502134592"
     },
     "user_tz": 180
    },
    "id": "6oKrhG03skt_",
    "outputId": "6d23e5e7-9afe-4957-8d1e-7fdf63d6c3bf"
   },
   "outputs": [],
   "source": [
    "# Hacemos lo mismo que antes pero para la columna \"Total\"\n",
    "precio_1t18_tot = df_2amb_b100_1t18['Total'][0] # Guardo el valor de referencia que voy a usar en el loop\n",
    "for fila in range(1, len(df_2amb_b100_1t18['Trimestre'])): #itera filas\n",
    "  precio = df_2amb_b100_1t18['Total'][fila]\n",
    "  df_2amb_b100_1t18['Total'][fila] = precio*100/precio_1t18_tot"
   ]
  },
  {
   "cell_type": "code",
   "execution_count": null,
   "metadata": {
    "colab": {
     "base_uri": "https://localhost:8080/"
    },
    "executionInfo": {
     "elapsed": 237,
     "status": "ok",
     "timestamp": 1733956517584,
     "user": {
      "displayName": "Emilia Tamburri",
      "userId": "17117273758502134592"
     },
     "user_tz": 180
    },
    "id": "tHU-Eg1KtCwt",
    "outputId": "4b8822c4-e646-4315-c12d-cc9f63c3c26e"
   },
   "outputs": [],
   "source": [
    "# Cambiamos el valor de referencia a 100\n",
    "df_2amb_b100_1t18['Total'][0] = 100"
   ]
  },
  {
   "cell_type": "code",
   "execution_count": null,
   "metadata": {
    "colab": {
     "base_uri": "https://localhost:8080/",
     "height": 915
    },
    "executionInfo": {
     "elapsed": 286,
     "status": "ok",
     "timestamp": 1733956519953,
     "user": {
      "displayName": "Emilia Tamburri",
      "userId": "17117273758502134592"
     },
     "user_tz": 180
    },
    "id": "L2za6W_lrWwG",
    "outputId": "7a3936de-118c-4329-8fcd-52d551d582ff"
   },
   "outputs": [],
   "source": [
    "df_2amb_b100_1t18"
   ]
  },
  {
   "cell_type": "code",
   "execution_count": 51,
   "metadata": {
    "id": "0Fy4NsdBjbMo"
   },
   "outputs": [],
   "source": [
    "# Eliminamos comuna 8 porque no hay datos para ningún trimestre\n",
    "df_2amb_b100_1t18 = df_2amb_b100_1t18.drop(columns=8)"
   ]
  },
  {
   "cell_type": "code",
   "execution_count": 52,
   "metadata": {
    "id": "SjAwZTxvzcUA"
   },
   "outputs": [],
   "source": [
    "# Definimos zonas\n",
    "zona_norte = [2, 13, 14]\n",
    "zona_centro = [1, 3, 5, 6, 7, 11, 12, 15]\n",
    "zona_sur = [4, 9, 10] #Sacamos comuna 8 porque no tiene valores en la base"
   ]
  },
  {
   "cell_type": "code",
   "execution_count": 53,
   "metadata": {
    "id": "Yhtyemik0j9G"
   },
   "outputs": [],
   "source": [
    "# Armamos una columna nueva por zona que sea el promedio de las comunas de la zona\n",
    "df_2amb_b100_1t18['Zona norte'] = df_2amb_b100_1t18[zona_norte].mean(axis=1)\n",
    "df_2amb_b100_1t18['Zona centro'] = df_2amb_b100_1t18[zona_centro].mean(axis=1)\n",
    "df_2amb_b100_1t18['Zona sur'] = df_2amb_b100_1t18[zona_sur].mean(axis=1)"
   ]
  },
  {
   "cell_type": "code",
   "execution_count": null,
   "metadata": {
    "colab": {
     "base_uri": "https://localhost:8080/",
     "height": 933
    },
    "executionInfo": {
     "elapsed": 307,
     "status": "ok",
     "timestamp": 1733957447410,
     "user": {
      "displayName": "Emilia Tamburri",
      "userId": "17117273758502134592"
     },
     "user_tz": 180
    },
    "id": "taNhLU_v3TBb",
    "outputId": "73a68cff-67a4-4df7-ad12-db6b7a2ca4e8"
   },
   "outputs": [],
   "source": [
    "df_2amb_b100_1t18"
   ]
  },
  {
   "cell_type": "markdown",
   "metadata": {
    "id": "N21PYIcPaW_n"
   },
   "source": [
    "## Gráfico 2 ambientes\n",
    "\n",
    "Definimos variables para el gráfico de 2 ambientes + salarios."
   ]
  },
  {
   "cell_type": "code",
   "execution_count": 55,
   "metadata": {
    "id": "Q8Lo3CTh1n3V"
   },
   "outputs": [],
   "source": [
    "# Definimos variables para el gráfico\n",
    "x2 = df_2amb_b100_1t18['Trimestre']\n",
    "ytot2 = df_2amb_b100_1t18['Total']\n",
    "ynor2 = df_2amb_b100_1t18['Zona norte']\n",
    "ycen2 = df_2amb_b100_1t18['Zona centro']\n",
    "ysur2 = df_2amb_b100_1t18['Zona sur']\n",
    "ysal2 = df_ripte['sal_ajustado_b100_1t18'] # Agregamos una columna de otro df porque las filas son las mismas"
   ]
  },
  {
   "cell_type": "code",
   "execution_count": null,
   "metadata": {
    "colab": {
     "base_uri": "https://localhost:8080/",
     "height": 432
    },
    "executionInfo": {
     "elapsed": 1175,
     "status": "ok",
     "timestamp": 1733957500965,
     "user": {
      "displayName": "Emilia Tamburri",
      "userId": "17117273758502134592"
     },
     "user_tz": 180
    },
    "id": "I8JVIhYk1hMp",
    "outputId": "c8adef42-7ee4-4401-b85c-eda72a4ffee3"
   },
   "outputs": [],
   "source": [
    "grafico_2amb = plt.figure(figsize=(12, 4.7), layout='constrained')\n",
    "plt.plot(x2, ytot2, label='Promedio 2amb', linewidth=2.5, color='black', linestyle='--')\n",
    "plt.plot(x2, ynor2, label='Zona Norte')\n",
    "plt.plot(x2, ycen2, label='Zona Centro')\n",
    "plt.plot(x2, ysur2, label='Zona Sur')\n",
    "plt.plot(x2, ysal2, label = 'Salarios')\n",
    "plt.legend()"
   ]
  },
  {
   "cell_type": "markdown",
   "metadata": {
    "id": "3x_0qf1Jt9HZ"
   },
   "source": [
    "# Base 3 ambientes\n",
    "\n",
    "Retomamos el mismo procedimiento para la base de 3 ambientes del GCBA. Transponemos los datos para que quede una comuna por columna y que cada fila sea un trimestre desde 1T 2018 hasta 1T 2024, como el resto de las bases con las que trabajamos. Calculamos los precios para cada columna a precios del 1T 2018 (primera fila de cada columna). Luego, transformamos esos valores a base 100 = 1T 2018 para que sean comparables entre sí y con la serie de salarios"
   ]
  },
  {
   "cell_type": "code",
   "execution_count": null,
   "metadata": {
    "colab": {
     "base_uri": "https://localhost:8080/"
    },
    "executionInfo": {
     "elapsed": 20,
     "status": "ok",
     "timestamp": 1733955214600,
     "user": {
      "displayName": "Emilia Tamburri",
      "userId": "17117273758502134592"
     },
     "user_tz": 180
    },
    "id": "OflF9h1t5pps",
    "outputId": "63a6f0ff-6c5e-4cb2-94d2-3e48cde8d9b6"
   },
   "outputs": [],
   "source": [
    "# Convertimos nulos a NaN\n",
    "df_3amb = df_3amb.replace({\"///\": np.nan})"
   ]
  },
  {
   "cell_type": "code",
   "execution_count": null,
   "metadata": {
    "colab": {
     "base_uri": "https://localhost:8080/"
    },
    "executionInfo": {
     "elapsed": 18,
     "status": "ok",
     "timestamp": 1733955214600,
     "user": {
      "displayName": "Emilia Tamburri",
      "userId": "17117273758502134592"
     },
     "user_tz": 180
    },
    "id": "RkQiGUrD54Lk",
    "outputId": "1ee4ed16-9c61-44fc-8950-4a4c7f7cfc70"
   },
   "outputs": [],
   "source": [
    "# Transponemos base 3amb, reseteamos index y cambiamos el nombre de las columnas\n",
    "df3_trans = df_3amb.transpose()\n",
    "df3_trans = df3_trans.reset_index()\n",
    "df3_trans['index'][0] = 'Trimestre'\n",
    "df3_trans.columns = df3_trans.iloc[0]\n",
    "df3_trans = df3_trans.drop(0)\n",
    "df3_trans = df3_trans.reset_index(drop=True)"
   ]
  },
  {
   "cell_type": "code",
   "execution_count": 59,
   "metadata": {
    "id": "MrnTUA9w6LYA"
   },
   "outputs": [],
   "source": [
    "# Creamos df nuevo para calcular los precios indexados al 1T 2018\n",
    "# Copiamos el df de 3 ambiente, dado que vamos a usar las mismas columnas\n",
    "df_3amb_index_1t18 = df3_trans"
   ]
  },
  {
   "cell_type": "code",
   "execution_count": null,
   "metadata": {
    "colab": {
     "base_uri": "https://localhost:8080/"
    },
    "executionInfo": {
     "elapsed": 16,
     "status": "ok",
     "timestamp": 1733955214600,
     "user": {
      "displayName": "Emilia Tamburri",
      "userId": "17117273758502134592"
     },
     "user_tz": 180
    },
    "id": "i4GKctpd6h-f",
    "outputId": "fb3c8011-4168-4815-b383-fe87459c03ba"
   },
   "outputs": [],
   "source": [
    "# Calculamos el precio a precios de 1T 2018 para cada comuna y trimestre\n",
    "for comuna in range(1, 16): #itera columnas (comunas)\n",
    "  for fila in range(1, len(df_3amb_index_1t18['Trimestre'])): #itera filas\n",
    "    precio_nominal = df_3amb_index_1t18[comuna][fila]\n",
    "    df_3amb_index_1t18[comuna][fila] = precio_nominal/(1+df_ipc[column][fila]) # el index de las filas de df_ipc y df_3amb_index_1t18 es el mismo"
   ]
  },
  {
   "cell_type": "code",
   "execution_count": null,
   "metadata": {
    "colab": {
     "base_uri": "https://localhost:8080/"
    },
    "executionInfo": {
     "elapsed": 12,
     "status": "ok",
     "timestamp": 1733955214600,
     "user": {
      "displayName": "Emilia Tamburri",
      "userId": "17117273758502134592"
     },
     "user_tz": 180
    },
    "id": "K-_QZnK_6yu-",
    "outputId": "72ceb63a-7ea0-447b-b9b8-56c238a4fdf0"
   },
   "outputs": [],
   "source": [
    "# Calculamos lo mismo para la columna \"Total\"\n",
    "for fila in range(1, len(df_3amb_index_1t18['Trimestre'])): #itera filas\n",
    "    precio_nominal = df_3amb_index_1t18['Total'][fila]\n",
    "    df_3amb_index_1t18['Total'][fila] = precio_nominal/(1+df_ipc[column][fila]) # el index de las filas de df_ipc y df_3amb_index_1t18 es el mismo"
   ]
  },
  {
   "cell_type": "code",
   "execution_count": null,
   "metadata": {
    "colab": {
     "base_uri": "https://localhost:8080/",
     "height": 915
    },
    "executionInfo": {
     "elapsed": 9,
     "status": "ok",
     "timestamp": 1733955214600,
     "user": {
      "displayName": "Emilia Tamburri",
      "userId": "17117273758502134592"
     },
     "user_tz": 180
    },
    "id": "P-h-Ujqf6MXk",
    "outputId": "426a5b26-ad9c-4b02-ca94-beef5dad96ec"
   },
   "outputs": [],
   "source": [
    "df_3amb_index_1t18"
   ]
  },
  {
   "cell_type": "code",
   "execution_count": 63,
   "metadata": {
    "id": "QcbNP4209M3v"
   },
   "outputs": [],
   "source": [
    "# Creamos un df nuevo para base 100 = 1T 2018\n",
    "df_3amb_b100_1t18 = df_3amb_index_1t18"
   ]
  },
  {
   "cell_type": "code",
   "execution_count": null,
   "metadata": {
    "colab": {
     "base_uri": "https://localhost:8080/"
    },
    "executionInfo": {
     "elapsed": 257,
     "status": "ok",
     "timestamp": 1733957039275,
     "user": {
      "displayName": "Emilia Tamburri",
      "userId": "17117273758502134592"
     },
     "user_tz": 180
    },
    "id": "q17Y_E1s9XIO",
    "outputId": "4d6219dd-0ef5-4bc6-83d6-b829dac56ce9"
   },
   "outputs": [],
   "source": [
    "# Calculamos el precio a precios de 1T 2018 con base 100 = 1T 2018\n",
    "for comuna in range(1, 16): #itera columnas (comunas)\n",
    "  precio_1t18_comuna = df_3amb_b100_1t18[comuna][0] # Guardo el valor de referencia para cada columna\n",
    "  for fila in range(1, len(df_3amb_b100_1t18['Trimestre'])): #itera filas\n",
    "    precio = df_3amb_b100_1t18[comuna][fila]\n",
    "    df_3amb_b100_1t18[comuna][fila] = precio*100/precio_1t18_comuna"
   ]
  },
  {
   "cell_type": "code",
   "execution_count": null,
   "metadata": {
    "colab": {
     "base_uri": "https://localhost:8080/"
    },
    "executionInfo": {
     "elapsed": 251,
     "status": "ok",
     "timestamp": 1733957042136,
     "user": {
      "displayName": "Emilia Tamburri",
      "userId": "17117273758502134592"
     },
     "user_tz": 180
    },
    "id": "kU4lch4H9q9h",
    "outputId": "c2b5ffaa-442d-4f90-d135-3589c8c9d785"
   },
   "outputs": [],
   "source": [
    "# Cambiamos los valores de referencia a 100\n",
    "for comuna in range(1, 16):\n",
    "  df_3amb_b100_1t18[comuna][0] = 100"
   ]
  },
  {
   "cell_type": "code",
   "execution_count": null,
   "metadata": {
    "colab": {
     "base_uri": "https://localhost:8080/"
    },
    "executionInfo": {
     "elapsed": 253,
     "status": "ok",
     "timestamp": 1733957044024,
     "user": {
      "displayName": "Emilia Tamburri",
      "userId": "17117273758502134592"
     },
     "user_tz": 180
    },
    "id": "2JkKvkXZn1DO",
    "outputId": "d6884f20-3c3d-45f1-fc7e-4cc1e96b97c2"
   },
   "outputs": [],
   "source": [
    "# Hacemos lo mismo que antes pero para la columna \"Total\"\n",
    "precio_1t18_tot_3amb = df_3amb_b100_1t18['Total'][0] # Guardo el valor de referencia que voy a usar en el loop\n",
    "for fila in range(1, len(df_3amb_b100_1t18['Trimestre'])): #itera filas\n",
    "  precio = df_3amb_b100_1t18['Total'][fila]\n",
    "  df_3amb_b100_1t18['Total'][fila] = precio*100/precio_1t18_tot_3amb"
   ]
  },
  {
   "cell_type": "code",
   "execution_count": null,
   "metadata": {
    "colab": {
     "base_uri": "https://localhost:8080/"
    },
    "executionInfo": {
     "elapsed": 265,
     "status": "ok",
     "timestamp": 1733957046267,
     "user": {
      "displayName": "Emilia Tamburri",
      "userId": "17117273758502134592"
     },
     "user_tz": 180
    },
    "id": "K3DnNqCOvd76",
    "outputId": "8a3785d7-7265-4f87-d2c8-9b082466ccdf"
   },
   "outputs": [],
   "source": [
    "# Cambiamos el valor de referencia a 100\n",
    "df_3amb_b100_1t18['Total'][0] = 100"
   ]
  },
  {
   "cell_type": "code",
   "execution_count": null,
   "metadata": {
    "colab": {
     "base_uri": "https://localhost:8080/",
     "height": 915
    },
    "executionInfo": {
     "elapsed": 270,
     "status": "ok",
     "timestamp": 1733957048940,
     "user": {
      "displayName": "Emilia Tamburri",
      "userId": "17117273758502134592"
     },
     "user_tz": 180
    },
    "id": "Z7ijK9cE9P_A",
    "outputId": "46e823ff-4966-4022-f6de-e57b91f77814"
   },
   "outputs": [],
   "source": [
    "df_3amb_b100_1t18"
   ]
  },
  {
   "cell_type": "code",
   "execution_count": 69,
   "metadata": {
    "id": "IJvuZnno-oqK"
   },
   "outputs": [],
   "source": [
    "# Eliminamos comuna 8 y 9 porque no hay datos para ningún trimestre\n",
    "df_3amb_b100_1t18 = df_3amb_b100_1t18.drop(columns=[8, 9])"
   ]
  },
  {
   "cell_type": "code",
   "execution_count": 70,
   "metadata": {
    "id": "qpQOI_Q45d_9"
   },
   "outputs": [],
   "source": [
    "# Definimos zonas\n",
    "zona_norte = [2, 13, 14]\n",
    "zona_centro = [1, 3, 5, 6, 7, 11, 12, 15]\n",
    "zona_sur = [4, 10] #Sacamos comunas 8 y 9 porque no tiene valores en la base"
   ]
  },
  {
   "cell_type": "code",
   "execution_count": 71,
   "metadata": {
    "id": "wtfVtcyt5CIt"
   },
   "outputs": [],
   "source": [
    "# Armamos una columna nueva por zona que sea el promedio de las comunas de la zona\n",
    "df_3amb_b100_1t18['Zona norte'] = df_3amb_b100_1t18[zona_norte].mean(axis=1)\n",
    "df_3amb_b100_1t18['Zona centro'] = df_3amb_b100_1t18[zona_centro].mean(axis=1)\n",
    "df_3amb_b100_1t18['Zona sur'] = df_3amb_b100_1t18[zona_sur].mean(axis=1)"
   ]
  },
  {
   "cell_type": "code",
   "execution_count": null,
   "metadata": {
    "colab": {
     "base_uri": "https://localhost:8080/",
     "height": 933
    },
    "executionInfo": {
     "elapsed": 289,
     "status": "ok",
     "timestamp": 1733957150242,
     "user": {
      "displayName": "Emilia Tamburri",
      "userId": "17117273758502134592"
     },
     "user_tz": 180
    },
    "id": "v59DX-G89PuL",
    "outputId": "7b32ff55-4138-437f-ab20-5e87339b0415"
   },
   "outputs": [],
   "source": [
    "df_3amb_b100_1t18"
   ]
  },
  {
   "cell_type": "markdown",
   "metadata": {
    "id": "DawWagy5CMuw"
   },
   "source": [
    "# Gráfico 3 ambientes\n",
    "\n",
    "Procedemos del mismo modo que para el gráfico del dataframe de 2 ambientes, definiendo variables para 3 ambientes + salarios."
   ]
  },
  {
   "cell_type": "code",
   "execution_count": 73,
   "metadata": {
    "id": "I68R-67BKaHu"
   },
   "outputs": [],
   "source": [
    "# Definimos variables para el gráfico\n",
    "x3 = df_3amb_b100_1t18['Trimestre']\n",
    "ytot3 = df_3amb_b100_1t18['Total']\n",
    "ynor3 = df_3amb_b100_1t18['Zona norte']\n",
    "ycen3 = df_3amb_b100_1t18['Zona centro']\n",
    "ysur3 = df_3amb_b100_1t18['Zona sur']\n",
    "ysal3 = df_ripte['sal_ajustado_b100_1t18'] # Agregamos una columna de otro df porque las filas son las mismas"
   ]
  },
  {
   "cell_type": "code",
   "execution_count": null,
   "metadata": {
    "colab": {
     "base_uri": "https://localhost:8080/",
     "height": 432
    },
    "executionInfo": {
     "elapsed": 1168,
     "status": "ok",
     "timestamp": 1733957542517,
     "user": {
      "displayName": "Emilia Tamburri",
      "userId": "17117273758502134592"
     },
     "user_tz": 180
    },
    "id": "zz2uwjrmOe8H",
    "outputId": "0cfba0e7-70a2-4e13-fd97-35f028a90e71"
   },
   "outputs": [],
   "source": [
    "grafico_3amb = plt.figure(figsize=(12, 4.7), layout='constrained')\n",
    "plt.plot(x3, ytot3, label='Promedio 3amb', linewidth=2.5, color='black', linestyle='--')\n",
    "plt.plot(x3, ynor3, label='Zona Norte')\n",
    "plt.plot(x3, ycen3, label='Zona Centro')\n",
    "plt.plot(x3, ysur3, label='Zona Sur')\n",
    "plt.plot(x3, ysal3, label = 'Salarios')\n",
    "plt.legend()"
   ]
  }
 ],
 "metadata": {
  "colab": {
   "provenance": []
  },
  "kernelspec": {
   "display_name": "Python 3",
   "name": "python3"
  },
  "language_info": {
   "codemirror_mode": {
    "name": "ipython",
    "version": 3
   },
   "file_extension": ".py",
   "mimetype": "text/x-python",
   "name": "python",
   "nbconvert_exporter": "python",
   "pygments_lexer": "ipython3",
   "version": "3.11.9"
  }
 },
 "nbformat": 4,
 "nbformat_minor": 0
}
