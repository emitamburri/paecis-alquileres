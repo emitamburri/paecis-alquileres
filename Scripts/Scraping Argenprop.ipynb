{
 "cells": [
  {
   "cell_type": "markdown",
   "metadata": {},
   "source": [
    "## Introducción\n",
    "En este código realizamos el scrapeo para 2 y 3 ambientes.\n",
    "\n",
    "Importamos librerías."
   ]
  },
  {
   "cell_type": "code",
   "execution_count": null,
   "metadata": {},
   "outputs": [],
   "source": [
    "# Instalar librerías en las versiones utilizadas en este trabajo\n",
    "!pip install -r requirements.txt"
   ]
  },
  {
   "cell_type": "code",
   "execution_count": 1,
   "metadata": {
    "executionInfo": {
     "elapsed": 1172,
     "status": "ok",
     "timestamp": 1734185809373,
     "user": {
      "displayName": "Emilia Tamburri",
      "userId": "17117273758502134592"
     },
     "user_tz": 180
    },
    "id": "7CihdnAHwKlD"
   },
   "outputs": [],
   "source": [
    "#Importamos librerías a usar\n",
    "import bs4\n",
    "import requests\n",
    "import pandas as pd\n",
    "import numpy as np\n",
    "import time\n",
    "import os\n",
    "from datetime import datetime"
   ]
  },
  {
   "cell_type": "markdown",
   "metadata": {},
   "source": [
    "## 2 ambientes"
   ]
  },
  {
   "cell_type": "code",
   "execution_count": null,
   "metadata": {
    "id": "tW98frtZFpYE"
   },
   "outputs": [],
   "source": [
    "#URL base argenprop\n",
    "root_url_argenprop_2amb = 'https://www.argenprop.com/departamentos/alquiler/capital-federal/2-ambientes?pagina-'"
   ]
  },
  {
   "cell_type": "code",
   "execution_count": null,
   "metadata": {
    "colab": {
     "base_uri": "https://localhost:8080/"
    },
    "executionInfo": {
     "elapsed": 1067,
     "status": "ok",
     "timestamp": 1733437965181,
     "user": {
      "displayName": "Sol Peñarrocha",
      "userId": "02443614962906873049"
     },
     "user_tz": 180
    },
    "id": "jNx2F16oQ0JK",
    "outputId": "4bb3f53e-c50a-46f9-ceab-26470b867653"
   },
   "outputs": [],
   "source": [
    "#Verificamos que funcione la consulta\n",
    "consulta_argenprop = requests.get(root_url_argenprop_2amb)\n",
    "\n",
    "consulta_argenprop"
   ]
  },
  {
   "cell_type": "code",
   "execution_count": null,
   "metadata": {
    "id": "uaDLjtIgzpdc"
   },
   "outputs": [],
   "source": [
    "#Verificamos a la fecha 5/12/24 la cantidad de páginas con publicaciones\n",
    "num_paginas_2amb = 190"
   ]
  },
  {
   "cell_type": "code",
   "execution_count": null,
   "metadata": {
    "id": "_vv7_RbglTkx"
   },
   "outputs": [],
   "source": [
    "#Definimos una lista vacía para juntar los dfs de cada página\n",
    "df_lista = []\n",
    "\n",
    "#Armamos un for para iterar las páginas\n",
    "for x in range(1, num_paginas_2amb + 1):\n",
    "  #Definimos la url de cada página con la root url y num_paginas\n",
    "  url = f\"{root_url_argenprop_2amb}{x}\"\n",
    "\n",
    "  #Hacemos la consulta\n",
    "  consulta_argenprop = requests.get(url)\n",
    "  #Parseamos el texto\n",
    "  texto_argenprop = bs4.BeautifulSoup(consulta_argenprop.text)\n",
    "\n",
    "  #Identificamos las categorías de interés: precio y barrio\n",
    "  precio_prop = texto_argenprop.findAll('p', class_ = 'card__price')\n",
    "  lista_precios = []\n",
    "  for precio in precio_prop:\n",
    "    #Eliminamos código html sobrante para que quede sólo el precio\n",
    "    precio_limpio = precio.text.strip().split('\\n')[0]\n",
    "    #Unificamos los precios de cada página en un listado de precios\n",
    "    lista_precios.append(precio_limpio)\n",
    "\n",
    "  #Repetimos los pasos anteriores para ubicación\n",
    "  ubicacion_prop = texto_argenprop.findAll('p', class_ = 'card__title--primary')\n",
    "  lista_ubicacion = []\n",
    "  for ubicacion in ubicacion_prop:\n",
    "    ubicacion_limpio = ubicacion.text.strip().split('Departamento en Alquiler en ')[1].split(',')[0]\n",
    "    lista_ubicacion.append(ubicacion_limpio)\n",
    "\n",
    "  #Armamos el dataframe con la fecha en la que efectuamos la consulta\n",
    "  df_pagina = pd.DataFrame({\n",
    "    'Precio': lista_precios,\n",
    "    'Barrio': lista_ubicacion,\n",
    "    'Fecha': [datetime.now().date()] * len(lista_precios)\n",
    "    })\n",
    "\n",
    "  #A la lista vacía le agregamos el df de cada página\n",
    "  df_lista.append(df_pagina)\n",
    "  time.sleep(5)"
   ]
  },
  {
   "cell_type": "code",
   "execution_count": null,
   "metadata": {
    "id": "Tdq7pb_iu7eP"
   },
   "outputs": [],
   "source": [
    "#Unificamos la lista de dfs en un solo df\n",
    "df_argenprop_2amb = pd.concat(df_lista, ignore_index = True)"
   ]
  },
  {
   "cell_type": "code",
   "execution_count": 11,
   "metadata": {
    "id": "iBAFV2WHzZbc"
   },
   "outputs": [],
   "source": [
    "# Guardamos el archivo en la carpeta Bases/Bases scrapeo\n",
    "ruta_base = os.path.join(os.pardir, \"Bases\") #Localizamos el path base\n",
    "fecha_scrapeo = datetime.now().strftime(\"%Y-%m-%d\") #Construímos fecha del scrapeo\n",
    "df_argenprop_2amb.to_excel(ruta_base + f'/Bases scrapeo/scraping_2amb_{fecha_scrapeo}.xlsx', index=False) #Guardamos el archivo con su fecha de scrapeo"
   ]
  },
  {
   "cell_type": "markdown",
   "metadata": {},
   "source": [
    "## 3 ambientes"
   ]
  },
  {
   "cell_type": "code",
   "execution_count": 2,
   "metadata": {
    "executionInfo": {
     "elapsed": 297,
     "status": "ok",
     "timestamp": 1734185901913,
     "user": {
      "displayName": "Emilia Tamburri",
      "userId": "17117273758502134592"
     },
     "user_tz": 180
    },
    "id": "Z7moyqTzPzR9"
   },
   "outputs": [],
   "source": [
    "#URL base argenprop\n",
    "root_url_argenprop_3amb = 'https://www.argenprop.com/departamentos/alquiler/capital-federal/3-ambientes?pagina-'"
   ]
  },
  {
   "cell_type": "code",
   "execution_count": null,
   "metadata": {
    "colab": {
     "base_uri": "https://localhost:8080/"
    },
    "executionInfo": {
     "elapsed": 634,
     "status": "ok",
     "timestamp": 1734186713972,
     "user": {
      "displayName": "Emilia Tamburri",
      "userId": "17117273758502134592"
     },
     "user_tz": 180
    },
    "id": "D4ixvI5vRCf_",
    "outputId": "b13b22d1-752d-4de3-a512-32ff1861b951"
   },
   "outputs": [],
   "source": [
    "#Verificamos que funcione la consulta\n",
    "consulta_argenprop = requests.get(root_url_argenprop_3amb)\n",
    "consulta_argenprop"
   ]
  },
  {
   "cell_type": "code",
   "execution_count": 11,
   "metadata": {
    "executionInfo": {
     "elapsed": 425,
     "status": "ok",
     "timestamp": 1734186862363,
     "user": {
      "displayName": "Emilia Tamburri",
      "userId": "17117273758502134592"
     },
     "user_tz": 180
    },
    "id": "n37BwSWwPr-t"
   },
   "outputs": [],
   "source": [
    "#Verificamos a la fecha 14/12/24 la cantidad de páginas con publicaciones\n",
    "num_paginas_3amb = 94"
   ]
  },
  {
   "cell_type": "code",
   "execution_count": 12,
   "metadata": {
    "executionInfo": {
     "elapsed": 574827,
     "status": "ok",
     "timestamp": 1734187443727,
     "user": {
      "displayName": "Emilia Tamburri",
      "userId": "17117273758502134592"
     },
     "user_tz": 180
    },
    "id": "QJ5LUzioPr-w"
   },
   "outputs": [],
   "source": [
    "#Definimos una lista vacía para juntar los dfs de cada página\n",
    "df_lista = []\n",
    "\n",
    "#Armamos un for para iterar las páginas\n",
    "for x in range(1, num_paginas_3amb + 1):\n",
    "  #Definimos la url de cada página con la root url y num_paginas\n",
    "  url = f\"{root_url_argenprop_3amb}{x}\"\n",
    "\n",
    "  #Hacemos la consulta\n",
    "  consulta_argenprop = requests.get(url)\n",
    "  #Parseamos el texto\n",
    "  texto_argenprop = bs4.BeautifulSoup(consulta_argenprop.text)\n",
    "\n",
    "  #Identificamos las categorías de interés: precio y barrio\n",
    "  precio_prop = texto_argenprop.findAll('p', class_ = 'card__price')\n",
    "  lista_precios = []\n",
    "  for precio in precio_prop:\n",
    "    #Eliminamos código html sobrante para que quede sólo el precio\n",
    "    precio_limpio = precio.text.strip().split('\\n')[0]\n",
    "    #Unificamos los precios de cada página en un listado de precios\n",
    "    lista_precios.append(precio_limpio)\n",
    "\n",
    "  #Repetimos los pasos anteriores para ubicación\n",
    "  ubicacion_prop = texto_argenprop.findAll('p', class_ = 'card__title--primary')\n",
    "  lista_ubicacion = []\n",
    "  for ubicacion in ubicacion_prop:\n",
    "    ubicacion_limpio = ubicacion.text.strip().split('Departamento en Alquiler en ')[1].split(',')[0]\n",
    "    lista_ubicacion.append(ubicacion_limpio)\n",
    "\n",
    "  #Armamos el dataframe con la fecha en la que efectuamos la consulta\n",
    "  df_pagina = pd.DataFrame({\n",
    "    'Precio': lista_precios,\n",
    "    'Barrio': lista_ubicacion,\n",
    "    'Fecha': [datetime.now().date()] * len(lista_precios)\n",
    "    })\n",
    "\n",
    "  #A la lista vacía le agregamos el df de cada página\n",
    "  df_lista.append(df_pagina)\n",
    "  time.sleep(5)"
   ]
  },
  {
   "cell_type": "code",
   "execution_count": 14,
   "metadata": {
    "executionInfo": {
     "elapsed": 22,
     "status": "ok",
     "timestamp": 1734187444326,
     "user": {
      "displayName": "Emilia Tamburri",
      "userId": "17117273758502134592"
     },
     "user_tz": 180
    },
    "id": "GB_N348wPr-x"
   },
   "outputs": [],
   "source": [
    "#Unificamos la lista de dfs en un solo df\n",
    "df_argenprop_3amb = pd.concat(df_lista, ignore_index = True)"
   ]
  },
  {
   "cell_type": "code",
   "execution_count": 13,
   "metadata": {
    "executionInfo": {
     "elapsed": 21,
     "status": "ok",
     "timestamp": 1734187444328,
     "user": {
      "displayName": "Emilia Tamburri",
      "userId": "17117273758502134592"
     },
     "user_tz": 180
    },
    "id": "rFK4V38MPr-y"
   },
   "outputs": [],
   "source": [
    "# Guardamos el archivo en la carpeta Bases/Bases scrapeo\n",
    "ruta_base = os.path.join(os.pardir, \"Bases\")\n",
    "fecha_scrapeo = datetime.now().strftime(\"%Y-%m-%d\")\n",
    "df_argenprop_3amb.to_excel(ruta_base + f'/Bases scrapeo/scraping_3amb_{fecha_scrapeo}.xlsx', index=False)"
   ]
  }
 ],
 "metadata": {
  "colab": {
   "provenance": []
  },
  "kernelspec": {
   "display_name": "Python 3",
   "name": "python3"
  },
  "language_info": {
   "codemirror_mode": {
    "name": "ipython",
    "version": 3
   },
   "file_extension": ".py",
   "mimetype": "text/x-python",
   "name": "python",
   "nbconvert_exporter": "python",
   "pygments_lexer": "ipython3",
   "version": "3.11.9"
  }
 },
 "nbformat": 4,
 "nbformat_minor": 0
}
