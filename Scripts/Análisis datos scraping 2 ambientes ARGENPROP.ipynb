{
 "cells": [
  {
   "cell_type": "markdown",
   "metadata": {},
   "source": [
    "## Introducción\n",
    "En este código analizamos los datos provenientes del scrapeo para 2 ambientes.\n",
    "\n",
    "Importamos librerías y bases a utilizar."
   ]
  },
  {
   "cell_type": "code",
   "execution_count": null,
   "metadata": {},
   "outputs": [],
   "source": [
    "# Instalar librerías en las versiones utilizadas en este trabajo\n",
    "!pip install -r requirements.txt"
   ]
  },
  {
   "cell_type": "code",
   "execution_count": 8,
   "metadata": {
    "id": "SvFWckLFQAFm"
   },
   "outputs": [],
   "source": [
    "# Importamos librerías\n",
    "import pandas as pd\n",
    "import numpy as np\n",
    "from datetime import datetime\n",
    "import geopandas as gpd\n",
    "import matplotlib.pyplot as plt\n",
    "import os"
   ]
  },
  {
   "cell_type": "code",
   "execution_count": 9,
   "metadata": {
    "id": "zzwghldTQJ7X"
   },
   "outputs": [],
   "source": [
    "# Importar archivos\n",
    "ruta_base = os.path.join(os.pardir, \"Bases\")\n",
    "df_argenprop = pd.read_excel(ruta_base + \"/Bases scrapeo/scraping_2amb_2024-12-05.xlsx\")"
   ]
  },
  {
   "cell_type": "markdown",
   "metadata": {},
   "source": [
    "## Limpieza y análisis"
   ]
  },
  {
   "cell_type": "code",
   "execution_count": 10,
   "metadata": {
    "id": "Lt5h0Uk6QFeE"
   },
   "outputs": [],
   "source": [
    "#Separamos la moneda (USD o $) del valor del precio en dos columnas\n",
    "df_temp = df_argenprop['Precio'].str.split(' ', expand = True)\n",
    "df_argenprop['Moneda'] = df_temp[0]\n",
    "df_argenprop['Precio'] = df_temp[1]"
   ]
  },
  {
   "cell_type": "code",
   "execution_count": null,
   "metadata": {
    "colab": {
     "base_uri": "https://localhost:8080/",
     "height": 424
    },
    "executionInfo": {
     "elapsed": 302,
     "status": "ok",
     "timestamp": 1733686424661,
     "user": {
      "displayName": "Sol Peñarrocha",
      "userId": "02443614962906873049"
     },
     "user_tz": 180
    },
    "id": "6V5ZZHMkE3dy",
    "outputId": "e5573949-f5ee-4023-9efb-bb4be25a0e44"
   },
   "outputs": [],
   "source": [
    "df_argenprop"
   ]
  },
  {
   "cell_type": "code",
   "execution_count": null,
   "metadata": {
    "colab": {
     "base_uri": "https://localhost:8080/"
    },
    "executionInfo": {
     "elapsed": 380,
     "status": "ok",
     "timestamp": 1733686431018,
     "user": {
      "displayName": "Sol Peñarrocha",
      "userId": "02443614962906873049"
     },
     "user_tz": 180
    },
    "id": "0V51ZxQQMzQ5",
    "outputId": "a97dc805-dd49-46ca-f4ba-b92bef7dd498"
   },
   "outputs": [],
   "source": [
    "# Sacamos los puntos para que el precio sea solo número\n",
    "df_argenprop['Precio'] = df_argenprop['Precio'].str.replace(\".\", \"\")\n",
    "# Convertimos la columna precio a valores numéricos\n",
    "df_argenprop[\"Precio\"] = pd.to_numeric(df_argenprop[\"Precio\"], errors=\"coerce\")\n",
    "# eliminamos los casos vacíos\n",
    "df_argenprop = df_argenprop.dropna()\n",
    "# Convertimos la columna precio a int\n",
    "df_argenprop[\"Precio\"] = df_argenprop[\"Precio\"].astype(int)\n",
    "\n",
    "#Reseteamos el index\n",
    "df_argenprop = df_argenprop.reset_index(drop=True)"
   ]
  },
  {
   "cell_type": "code",
   "execution_count": null,
   "metadata": {
    "colab": {
     "base_uri": "https://localhost:8080/",
     "height": 424
    },
    "executionInfo": {
     "elapsed": 676,
     "status": "ok",
     "timestamp": 1733686440304,
     "user": {
      "displayName": "Sol Peñarrocha",
      "userId": "02443614962906873049"
     },
     "user_tz": 180
    },
    "id": "XX6EyYi1Idx7",
    "outputId": "9175f8eb-d4d8-40fa-a1bc-26a267b19690"
   },
   "outputs": [],
   "source": [
    "df_argenprop"
   ]
  },
  {
   "cell_type": "code",
   "execution_count": null,
   "metadata": {
    "colab": {
     "base_uri": "https://localhost:8080/"
    },
    "executionInfo": {
     "elapsed": 330,
     "status": "ok",
     "timestamp": 1733686447756,
     "user": {
      "displayName": "Sol Peñarrocha",
      "userId": "02443614962906873049"
     },
     "user_tz": 180
    },
    "id": "x_RNcPaWIuVJ",
    "outputId": "8116bccf-ecdf-46dc-bde6-e1188ab1f2fb"
   },
   "outputs": [],
   "source": [
    "# Verificamos que precio haya quedado como integer\n",
    "df_argenprop['Precio'].dtype"
   ]
  },
  {
   "cell_type": "code",
   "execution_count": 15,
   "metadata": {
    "id": "6cWCiOYiPTlz"
   },
   "outputs": [],
   "source": [
    "# Definimos comunas\n",
    "COMUNA1 = ['Retiro', 'San Nicolás', 'Puerto Madero', 'San Telmo', 'Monserrat', \"Montserrat\", 'Constitución', \"Tribunales\", \"Constitucion\", \"Barrio San Pedro\", \"Centro\", \"Microcentro\"]\n",
    "COMUNA2 = ['Recoleta', \"Barrio Norte\", \"Plaza San Martín\"]\n",
    "COMUNA3 = ['Balvanera', 'San Cristóbal', \"Abasto\", \"Congreso\", \"Once\", \"San Cristobal\"]\n",
    "COMUNA4  = ['La Boca', 'Barracas', 'Parque Patricios', 'Nueva Pompeya', \"Boca\", \"Pompeya\"]\n",
    "COMUNA5  = ['Almagro' , 'Boedo', \"Almagro Norte\"]\n",
    "COMUNA6  = ['Caballito', \"Caballito Norte\", \"Caballito Sur\", \"Cid Campeador\", \"Parque Rivadavia\", \"Parque Centenario\", \"Primera Junta\"]\n",
    "COMUNA7  = ['Flores' , 'Parque Chacabuco', \"Flores Norte\", \"Flores Sur\"]\n",
    "COMUNA8  = ['Villa Soldati', 'Villa Riachuelo' , 'Villa Lugano']\n",
    "COMUNA9  = ['Liniers', 'Mataderos' , 'Parque Avellaneda']\n",
    "COMUNA10 = ['Villa Real','Monte Castro','Versalles','Floresta','Vélez Sarfield', \"Velez Sarsfield\", 'Villa Luro', \"Floresta Sur\", \"Floresta Norte\"]\n",
    "COMUNA11 = ['Villa General Mitre','Villa Devoto','Villa del Parque', 'Villa Santa Rita']\n",
    "COMUNA12 = ['Coghlan','Saavedra','Villa Urquiza' , 'Villa Pueyrredón', \"Villa Pueyrredon\", \"Urquiza R\"]\n",
    "COMUNA13 = ['Núñez', \"Nuñez\", 'Belgrano','Colegiales', \"Belgrano Barrancas\", \"Belgrano C\", \"Belgrano R\", \"Belgrano Chico\", \"Lomas de Nuñez\"]\n",
    "COMUNA14 = ['Palermo', \"Botanico\", \"Parque Las Heras\", \"Las Cañitas\", \"Palermo Chico\", \"Palermo Hollywood\", \"Palermo Nuevo\", \"Palermo Soho\", \"Palermo Viejo\", ]\n",
    "COMUNA15 = ['Chacarita','Villa Crespo','La Paternal','Villa Ortúzar', \"Villa Ortuzar\", 'Agronomía' ,'Parque Chas', \"Agronomia\", \"Paternal\"]"
   ]
  },
  {
   "cell_type": "code",
   "execution_count": 16,
   "metadata": {
    "id": "Pf-4c9cDPTlz"
   },
   "outputs": [],
   "source": [
    "# Definimos una función para asignar comuna al barrio\n",
    "comunas = [COMUNA1, COMUNA2, COMUNA3, COMUNA4, COMUNA5, COMUNA6, COMUNA7, COMUNA8, COMUNA9, COMUNA10, COMUNA11, COMUNA12, COMUNA13, COMUNA14, COMUNA15,]\n",
    "def barrio2comuna(barrio):\n",
    "  for c in range(0,15):\n",
    "    if barrio in comunas[c]:\n",
    "      return(c+1)\n",
    "  return('No se encuentra')"
   ]
  },
  {
   "cell_type": "code",
   "execution_count": null,
   "metadata": {
    "colab": {
     "base_uri": "https://localhost:8080/"
    },
    "collapsed": true,
    "executionInfo": {
     "elapsed": 550,
     "status": "ok",
     "timestamp": 1733686494283,
     "user": {
      "displayName": "Sol Peñarrocha",
      "userId": "02443614962906873049"
     },
     "user_tz": 180
    },
    "id": "kd4IfSRRPTlz",
    "outputId": "747633e2-7aaf-43d7-ddfa-e0dfeb5b9c24"
   },
   "outputs": [],
   "source": [
    "#Aplicamos la función barrio2comuna solo a las filas de la columna Barrio\n",
    "df_argenprop['Comuna'] = df_argenprop['Barrio'].apply(barrio2comuna)\n",
    "\n",
    "print(df_argenprop)"
   ]
  },
  {
   "cell_type": "code",
   "execution_count": 18,
   "metadata": {
    "id": "jXVW3zTQP-RY"
   },
   "outputs": [],
   "source": [
    "# Usamos filtro para chequear que todos los barrios se identifiquen con una comuna y, en caso contrario, asignar el barrio a la comuna\n",
    "\n",
    "filtro = df_argenprop['Comuna'] == 'No se encuentra'\n",
    "df_filtrado_sincomunas = df_argenprop[filtro]\n",
    "\n",
    "df_filtrado_sincomunas\n",
    "\n",
    "df_filtrado_sincomunas.to_excel(ruta_base + '/Tablas y bases análisis scraping/argenprop_comunas_missing_2amb.xlsx', index=False)"
   ]
  },
  {
   "cell_type": "code",
   "execution_count": null,
   "metadata": {
    "colab": {
     "base_uri": "https://localhost:8080/",
     "height": 89
    },
    "executionInfo": {
     "elapsed": 310,
     "status": "ok",
     "timestamp": 1733686508678,
     "user": {
      "displayName": "Sol Peñarrocha",
      "userId": "02443614962906873049"
     },
     "user_tz": 180
    },
    "id": "KHHFH_3xVZak",
    "outputId": "cdbc4960-266d-4714-ef13-fe9767ed7fa1"
   },
   "outputs": [],
   "source": [
    "df_filtrado_sincomunas"
   ]
  },
  {
   "cell_type": "code",
   "execution_count": 20,
   "metadata": {
    "id": "RiDkdUSEQZaB"
   },
   "outputs": [],
   "source": [
    "#Filtramos los valores en pesos para deshacernos de valores con errores / outliers\n",
    "filtro = (df_argenprop[\"Precio\"] > 200000) & (df_argenprop[\"Precio\"] < 4200000) & (df_argenprop[\"Moneda\"] == '$')\n",
    "df_filtrado_pesos = df_argenprop[filtro]\n",
    "\n",
    "#Reseteamos el index\n",
    "df_filtrado_pesos = df_filtrado_pesos.reset_index(drop=True)"
   ]
  },
  {
   "cell_type": "code",
   "execution_count": null,
   "metadata": {
    "colab": {
     "base_uri": "https://localhost:8080/",
     "height": 424
    },
    "executionInfo": {
     "elapsed": 327,
     "status": "ok",
     "timestamp": 1733686520502,
     "user": {
      "displayName": "Sol Peñarrocha",
      "userId": "02443614962906873049"
     },
     "user_tz": 180
    },
    "id": "qvFfn27fODvJ",
    "outputId": "d6c295fc-eca1-4eec-a487-4a4648239db6"
   },
   "outputs": [],
   "source": [
    "df_filtrado_pesos"
   ]
  },
  {
   "cell_type": "code",
   "execution_count": 22,
   "metadata": {
    "id": "hxNHB3rVQa-C"
   },
   "outputs": [],
   "source": [
    "#Hacemos lo mismo con los valores en dólares\n",
    "filtro = (df_argenprop[\"Precio\"] > 100) & (df_argenprop['Precio'] < 4000) & (df_argenprop[\"Moneda\"] == 'USD')\n",
    "df_filtrado_dolares = df_argenprop[filtro]\n",
    "\n",
    "#Reseteamos el index\n",
    "df_filtrado_dolares = df_filtrado_dolares.reset_index(drop=True)"
   ]
  },
  {
   "cell_type": "code",
   "execution_count": null,
   "metadata": {
    "colab": {
     "base_uri": "https://localhost:8080/",
     "height": 424
    },
    "collapsed": true,
    "executionInfo": {
     "elapsed": 339,
     "status": "ok",
     "timestamp": 1733686527825,
     "user": {
      "displayName": "Sol Peñarrocha",
      "userId": "02443614962906873049"
     },
     "user_tz": 180
    },
    "id": "3LvelW0pOxQ2",
    "outputId": "92438d0f-a717-4502-b2d8-9abd3ac27678"
   },
   "outputs": [],
   "source": [
    "df_filtrado_dolares"
   ]
  },
  {
   "cell_type": "code",
   "execution_count": null,
   "metadata": {
    "colab": {
     "base_uri": "https://localhost:8080/",
     "height": 424
    },
    "collapsed": true,
    "executionInfo": {
     "elapsed": 564,
     "status": "ok",
     "timestamp": 1733686536069,
     "user": {
      "displayName": "Sol Peñarrocha",
      "userId": "02443614962906873049"
     },
     "user_tz": 180
    },
    "id": "xo0_yza8WhiR",
    "outputId": "ff18b099-00a6-49b5-ddcf-1a4f3a955879"
   },
   "outputs": [],
   "source": [
    "# Pasamos el df en dólares a pesos (al precio del dolar oficial del día en que se realizó el scrapeo, 5/12)\n",
    "\n",
    "df_dolar_a_pesos = df_filtrado_dolares\n",
    "\n",
    "df_dolar_a_pesos['Precio'] = df_dolar_a_pesos['Precio'] * 1043\n",
    "df_dolar_a_pesos['Moneda'] = '$'\n",
    "\n",
    "df_dolar_a_pesos"
   ]
  },
  {
   "cell_type": "code",
   "execution_count": null,
   "metadata": {
    "colab": {
     "base_uri": "https://localhost:8080/",
     "height": 424
    },
    "collapsed": true,
    "executionInfo": {
     "elapsed": 395,
     "status": "ok",
     "timestamp": 1733686557855,
     "user": {
      "displayName": "Sol Peñarrocha",
      "userId": "02443614962906873049"
     },
     "user_tz": 180
    },
    "id": "IErQGJqHYBRE",
    "outputId": "f81f35c2-762e-40cb-e45e-31e0089525f8"
   },
   "outputs": [],
   "source": [
    "# Creamos un df con todos los valores en pesos para poder trabajar con todos los casos y sea comparable\n",
    "df_unido = pd.concat([df_dolar_a_pesos, df_filtrado_pesos], ignore_index = True)\n",
    "\n",
    "df_unido"
   ]
  },
  {
   "cell_type": "markdown",
   "metadata": {},
   "source": [
    "## Tablas resumen"
   ]
  },
  {
   "cell_type": "code",
   "execution_count": 26,
   "metadata": {
    "id": "TIrSH5g_1_A2"
   },
   "outputs": [],
   "source": [
    "# Armamos tabla con medidas resumen del df unido\n",
    "pd.set_option('display.float_format', '{:,.0f}'.format) # Le pedimos que no use notación científica\n",
    "df_tablas_resumen = df_unido['Precio'].describe()\n",
    "\n",
    "df_tablas_resumen.to_excel(ruta_base + '/Tablas y bases análisis scraping/Tabla_resumen_caba_2amb.xlsx')"
   ]
  },
  {
   "cell_type": "code",
   "execution_count": null,
   "metadata": {
    "colab": {
     "base_uri": "https://localhost:8080/"
    },
    "executionInfo": {
     "elapsed": 371,
     "status": "ok",
     "timestamp": 1733688423601,
     "user": {
      "displayName": "Sol Peñarrocha",
      "userId": "02443614962906873049"
     },
     "user_tz": 180
    },
    "id": "JVmJBaTh3-Vy",
    "outputId": "8eb9d316-371b-4880-e806-fe6efbacc10a"
   },
   "outputs": [],
   "source": [
    "# Armamos un groupby para sacar estadísticos por comuna\n",
    "df_estadisticasxcomuna = df_unido.groupby(\"Comuna\", as_index=False)[\"Precio\"].describe()\n",
    "\n",
    "print(df_estadisticasxcomuna)\n",
    "\n",
    "df_estadisticasxcomuna.to_excel(ruta_base + '/Tablas y bases análisis scraping/Estadisticas_por_comuna_2amb.xlsx')"
   ]
  },
  {
   "cell_type": "code",
   "execution_count": null,
   "metadata": {
    "colab": {
     "base_uri": "https://localhost:8080/"
    },
    "collapsed": true,
    "executionInfo": {
     "elapsed": 300,
     "status": "ok",
     "timestamp": 1733690663428,
     "user": {
      "displayName": "Sol Peñarrocha",
      "userId": "02443614962906873049"
     },
     "user_tz": 180
    },
    "id": "xWkduTVTd5jt",
    "outputId": "c33c2492-f7a2-47b4-914a-9dab8c8d465a"
   },
   "outputs": [],
   "source": [
    "# Armamos un groupby para sacar precio promedio por comuna\n",
    "df_promedioxcomuna = df_unido.groupby(\"Comuna\", as_index=False)[\"Precio\"].mean()\n",
    "df_promedioxcomuna['Precio'] = df_promedioxcomuna['Precio'].round(1) #Redondeamos a 1 decimal\n",
    "# Renombramos la columna\n",
    "df_promedioxcomuna.rename(columns={\"Precio\": \"Precio promedio\"}, inplace=True)\n",
    "\n",
    "print(df_promedioxcomuna)\n"
   ]
  },
  {
   "cell_type": "code",
   "execution_count": null,
   "metadata": {
    "colab": {
     "base_uri": "https://localhost:8080/",
     "height": 520
    },
    "collapsed": true,
    "executionInfo": {
     "elapsed": 8,
     "status": "ok",
     "timestamp": 1733690666255,
     "user": {
      "displayName": "Sol Peñarrocha",
      "userId": "02443614962906873049"
     },
     "user_tz": 180
    },
    "id": "0Eh4cMrfihEW",
    "outputId": "2251f495-1562-4875-da89-bcc362882e29"
   },
   "outputs": [],
   "source": [
    "# Armamos groupby para ver cantidad de publicaciones por comuna\n",
    "df_publicaciones_xcomuna = df_unido.groupby(\"Comuna\", as_index=False)['Precio'].count()\n",
    "# Cambiamos nombre de la columna\n",
    "df_publicaciones_xcomuna.rename(columns={\"Precio\": \"Cantidad de publicaciones\"}, inplace=True)\n",
    "\n",
    "df_publicaciones_xcomuna"
   ]
  },
  {
   "cell_type": "markdown",
   "metadata": {},
   "source": [
    "## Gráficos"
   ]
  },
  {
   "cell_type": "code",
   "execution_count": 30,
   "metadata": {
    "id": "_ctnfIdhZYx_"
   },
   "outputs": [],
   "source": [
    "# subimos archivo geográfico de comunas de caba\n",
    "comunas = gpd.read_file(ruta_base + \"/Archivos geográficos comunas/comunas.shp\")"
   ]
  },
  {
   "cell_type": "code",
   "execution_count": null,
   "metadata": {
    "colab": {
     "base_uri": "https://localhost:8080/",
     "height": 520
    },
    "collapsed": true,
    "executionInfo": {
     "elapsed": 301,
     "status": "ok",
     "timestamp": 1733690632544,
     "user": {
      "displayName": "Sol Peñarrocha",
      "userId": "02443614962906873049"
     },
     "user_tz": 180
    },
    "id": "G5jbO15Ibnnn",
    "outputId": "8aa484d8-ce5c-42ef-d027-f1548cdaed6c"
   },
   "outputs": [],
   "source": [
    "comunas"
   ]
  },
  {
   "cell_type": "code",
   "execution_count": 32,
   "metadata": {
    "id": "iOuI-L2IbQYc"
   },
   "outputs": [],
   "source": [
    "# Mergeamos los datos geográficos de comunas con nuestro df de precio promedio por comuna con key = comuna\n",
    "comunas_mapa_precio = comunas.merge(df_promedioxcomuna, left_on= 'comuna', right_on= 'Comuna')"
   ]
  },
  {
   "cell_type": "code",
   "execution_count": null,
   "metadata": {
    "colab": {
     "base_uri": "https://localhost:8080/",
     "height": 798
    },
    "executionInfo": {
     "elapsed": 282,
     "status": "ok",
     "timestamp": 1733690673469,
     "user": {
      "displayName": "Sol Peñarrocha",
      "userId": "02443614962906873049"
     },
     "user_tz": 180
    },
    "id": "ulc2654KcQxZ",
    "outputId": "4a595a54-32bf-4699-8e04-e0549e94a8f0"
   },
   "outputs": [],
   "source": [
    "# Verificamos el merge\n",
    "comunas_mapa_precio"
   ]
  },
  {
   "cell_type": "code",
   "execution_count": null,
   "metadata": {
    "colab": {
     "base_uri": "https://localhost:8080/",
     "height": 812
    },
    "executionInfo": {
     "elapsed": 890,
     "status": "ok",
     "timestamp": 1733690678036,
     "user": {
      "displayName": "Sol Peñarrocha",
      "userId": "02443614962906873049"
     },
     "user_tz": 180
    },
    "id": "fDo_VixcdKpx",
    "outputId": "a9392d66-c0a9-44fc-edde-a9fde0ef8e5f"
   },
   "outputs": [],
   "source": [
    "# Graficamos mapa precio promedio por comuna\n",
    "\n",
    "fig, ax = plt.subplots(1, 1, figsize=(10, 10))\n",
    "comunas_mapa_precio.plot(column=\"Precio promedio\",\n",
    "             ax=ax,\n",
    "             cmap=\"Blues\",\n",
    "             edgecolor=\"black\",\n",
    "             vmin = 250000,\n",
    "             vmax = 800000)\n",
    "\n",
    "# Acá admitimos que le pedimos mucha ayuda a ChatGPT que nos armó un for para asignar las etiquetas a las comunas correspondientes\n",
    "\n",
    "for idx, row in comunas_mapa_precio.iterrows():\n",
    "    # Obtenemos el centroide de la geometría para colocar la etiqueta\n",
    "    centroid = row.geometry.centroid\n",
    "    # Agregamos la etiqueta en el centroide, usando el valor de la columna correspondiente\n",
    "    ax.text(centroid.x, centroid.y,\n",
    "            f'{row[\"Precio promedio\"]}',\n",
    "            fontsize=8,\n",
    "            ha='center',\n",
    "            color='black')\n",
    "\n",
    "plt.xticks([])\n",
    "plt.yticks([])\n",
    "plt.show()"
   ]
  },
  {
   "cell_type": "code",
   "execution_count": null,
   "metadata": {
    "colab": {
     "base_uri": "https://localhost:8080/",
     "height": 798
    },
    "collapsed": true,
    "executionInfo": {
     "elapsed": 344,
     "status": "ok",
     "timestamp": 1733687093005,
     "user": {
      "displayName": "Sol Peñarrocha",
      "userId": "02443614962906873049"
     },
     "user_tz": 180
    },
    "id": "ScmODOKenoTh",
    "outputId": "ce0a0afb-a9ea-4309-d660-dd05bba89599"
   },
   "outputs": [],
   "source": [
    "# Mergeamos los datos geográficos de comunas con nuestro df de cantidad de publicaciones por comuna con key = comuna\n",
    "comunas_mapa_publicaciones = comunas.merge(df_publicaciones_xcomuna, left_on= 'comuna', right_on= 'Comuna')\n",
    "\n",
    "comunas_mapa_publicaciones"
   ]
  },
  {
   "cell_type": "code",
   "execution_count": null,
   "metadata": {
    "colab": {
     "base_uri": "https://localhost:8080/",
     "height": 807
    },
    "executionInfo": {
     "elapsed": 989,
     "status": "ok",
     "timestamp": 1733690493101,
     "user": {
      "displayName": "Sol Peñarrocha",
      "userId": "02443614962906873049"
     },
     "user_tz": 180
    },
    "id": "FJYyOKitmpV_",
    "outputId": "e701b011-f26c-4d10-f852-636374f9377a"
   },
   "outputs": [],
   "source": [
    "# Graficamos mapa cantidad de publicaciones por comuna\n",
    "fig, ax = plt.subplots(1, 1, figsize=(10, 10))\n",
    "comunas_mapa_publicaciones.plot(column=\"Cantidad de publicaciones\",\n",
    "             ax=ax,\n",
    "             cmap=\"Greens\",\n",
    "             edgecolor=\"black\")\n",
    "\n",
    "for idx, row in comunas_mapa_publicaciones.iterrows():\n",
    "    centroid = row.geometry.centroid\n",
    "    ax.text(centroid.x, centroid.y,\n",
    "            f'{row[\"Cantidad de publicaciones\"]}',\n",
    "            fontsize=8,\n",
    "            ha='center',\n",
    "            color='black')\n",
    "\n",
    "plt.xticks([])\n",
    "plt.yticks([])\n",
    "plt.show()"
   ]
  },
  {
   "cell_type": "code",
   "execution_count": null,
   "metadata": {
    "colab": {
     "base_uri": "https://localhost:8080/",
     "height": 426
    },
    "executionInfo": {
     "elapsed": 327,
     "status": "ok",
     "timestamp": 1733687193833,
     "user": {
      "displayName": "Sol Peñarrocha",
      "userId": "02443614962906873049"
     },
     "user_tz": 180
    },
    "id": "_pRyDWAMpMaR",
    "outputId": "ce445f03-3d83-44b0-ed7a-79745a3125de"
   },
   "outputs": [],
   "source": [
    "# Hacemos groupby para contar cantidad de publicaciones en dólares por comuna\n",
    "df_publicaciones_dolar = df_filtrado_dolares.groupby(\"Comuna\", as_index=False)['Precio'].count()\n",
    "# Renombramos columna\n",
    "df_publicaciones_dolar.rename(columns={\"Precio\": \"Cantidad de publicaciones en dolares\"}, inplace=True)\n",
    "\n",
    "df_publicaciones_dolar"
   ]
  },
  {
   "cell_type": "code",
   "execution_count": null,
   "metadata": {
    "colab": {
     "base_uri": "https://localhost:8080/",
     "height": 520
    },
    "executionInfo": {
     "elapsed": 402,
     "status": "ok",
     "timestamp": 1733687315524,
     "user": {
      "displayName": "Sol Peñarrocha",
      "userId": "02443614962906873049"
     },
     "user_tz": 180
    },
    "id": "o9LQ0F7XrLoU",
    "outputId": "90e705b9-223d-4997-c76a-1310f4c2d476"
   },
   "outputs": [],
   "source": [
    "# Mergeamos df de cantidad de publicaciones por comuna total con el de cantidad de publicaciones en dólares con key = comuna para poder hacer división despues\n",
    "# usamos how = outer porque teníamos tres comunas sin publicaciones en dólares pero no queríamos perder el dato\n",
    "df_prop_dolar = df_publicaciones_xcomuna.merge(df_publicaciones_dolar, left_on= 'Comuna', right_on= 'Comuna', how='outer')\n",
    "\n",
    "df_prop_dolar"
   ]
  },
  {
   "cell_type": "code",
   "execution_count": null,
   "metadata": {
    "colab": {
     "base_uri": "https://localhost:8080/",
     "height": 520
    },
    "executionInfo": {
     "elapsed": 401,
     "status": "ok",
     "timestamp": 1733687372719,
     "user": {
      "displayName": "Sol Peñarrocha",
      "userId": "02443614962906873049"
     },
     "user_tz": 180
    },
    "id": "iBIxyqeqsuNk",
    "outputId": "8e07820c-2a5a-4157-cc7a-9ee77329a930"
   },
   "outputs": [],
   "source": [
    "# Sacamos proporción de publicaciones en dólares sobre publicaciones totales para cada comuna * 100 (para tenerlo en %)\n",
    "df_prop_dolar['Proporcion de publicaciones en dolares'] = df_prop_dolar['Cantidad de publicaciones en dolares'] / df_prop_dolar['Cantidad de publicaciones'] * 100\n",
    "\n",
    "# Reemplazamos los NaN por ceros\n",
    "df_prop_dolar.fillna(0, inplace=True)\n",
    "# Redondeamos a 2 decimales\n",
    "df_prop_dolar['Proporcion de publicaciones en dolares'] = df_prop_dolar['Proporcion de publicaciones en dolares'].round(2)\n",
    "\n",
    "df_prop_dolar"
   ]
  },
  {
   "cell_type": "code",
   "execution_count": null,
   "metadata": {
    "colab": {
     "base_uri": "https://localhost:8080/",
     "height": 1000
    },
    "executionInfo": {
     "elapsed": 799,
     "status": "ok",
     "timestamp": 1733687425171,
     "user": {
      "displayName": "Sol Peñarrocha",
      "userId": "02443614962906873049"
     },
     "user_tz": 180
    },
    "id": "YuSy4PMZuKWL",
    "outputId": "9e1e7b0f-c618-498b-aae4-47c783e941f7"
   },
   "outputs": [],
   "source": [
    "# Mergeamos nuevamente los datos geográficos de comuna con el df de proporción en dólares con key = comuna\n",
    "comunas_prop_dolares = comunas.merge(df_prop_dolar, left_on= 'comuna', right_on= 'Comuna')\n",
    "\n",
    "comunas_prop_dolares"
   ]
  },
  {
   "cell_type": "code",
   "execution_count": null,
   "metadata": {
    "colab": {
     "base_uri": "https://localhost:8080/",
     "height": 815
    },
    "executionInfo": {
     "elapsed": 982,
     "status": "ok",
     "timestamp": 1733690524372,
     "user": {
      "displayName": "Sol Peñarrocha",
      "userId": "02443614962906873049"
     },
     "user_tz": 180
    },
    "id": "vJZx67oys8aG",
    "outputId": "cbd8eef6-52a0-4c20-94c1-b2bdc0619704"
   },
   "outputs": [],
   "source": [
    "# Armamos el ùltimo gráfico de % de publicaciones en dólares por comuna\n",
    "fig, ax = plt.subplots(1, 1, figsize=(10, 10))\n",
    "comunas_prop_dolares.plot(column=\"Proporcion de publicaciones en dolares\",\n",
    "             ax=ax,\n",
    "             cmap=\"Oranges\",\n",
    "             edgecolor=\"black\")\n",
    "\n",
    "for idx, row in comunas_prop_dolares.iterrows():\n",
    "    centroid = row.geometry.centroid\n",
    "    ax.text(centroid.x, centroid.y,\n",
    "            f'{row[\"Proporcion de publicaciones en dolares\"]}',\n",
    "            fontsize=8,\n",
    "            ha='center',\n",
    "            color='black')\n",
    "\n",
    "plt.xticks([])\n",
    "plt.yticks([])\n",
    "plt.show()"
   ]
  }
 ],
 "metadata": {
  "colab": {
   "provenance": []
  },
  "kernelspec": {
   "display_name": "Python 3",
   "name": "python3"
  },
  "language_info": {
   "codemirror_mode": {
    "name": "ipython",
    "version": 3
   },
   "file_extension": ".py",
   "mimetype": "text/x-python",
   "name": "python",
   "nbconvert_exporter": "python",
   "pygments_lexer": "ipython3",
   "version": "3.11.9"
  }
 },
 "nbformat": 4,
 "nbformat_minor": 0
}
