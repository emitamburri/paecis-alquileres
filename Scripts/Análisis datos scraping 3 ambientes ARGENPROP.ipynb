{
 "cells": [
  {
   "cell_type": "code",
   "execution_count": null,
   "metadata": {},
   "outputs": [],
   "source": [
    "# Instalar librerías en las versiones utilizadas en este trabajo\n",
    "!pip install -r requirements.txt"
   ]
  },
  {
   "cell_type": "markdown",
   "metadata": {},
   "source": [
    "## Introducción\n",
    "En este código analizamos los datos provenientes del scrapeo para 3 ambientes.\n",
    "\n",
    "Importamos librerías y bases a utilizar."
   ]
  },
  {
   "cell_type": "code",
   "execution_count": 20,
   "metadata": {
    "executionInfo": {
     "elapsed": 1277,
     "status": "ok",
     "timestamp": 1734211454353,
     "user": {
      "displayName": "Emilia Tamburri",
      "userId": "17117273758502134592"
     },
     "user_tz": 180
    },
    "id": "SvFWckLFQAFm"
   },
   "outputs": [],
   "source": [
    "# Importamos librerías\n",
    "import pandas as pd\n",
    "import numpy as np\n",
    "from datetime import datetime\n",
    "import geopandas as gpd\n",
    "import matplotlib.pyplot as plt\n",
    "import os"
   ]
  },
  {
   "cell_type": "code",
   "execution_count": 21,
   "metadata": {
    "executionInfo": {
     "elapsed": 985,
     "status": "ok",
     "timestamp": 1734211457408,
     "user": {
      "displayName": "Emilia Tamburri",
      "userId": "17117273758502134592"
     },
     "user_tz": 180
    },
    "id": "zzwghldTQJ7X"
   },
   "outputs": [],
   "source": [
    "# Importar archivos\n",
    "ruta_base = os.path.join(os.pardir, \"Bases\")\n",
    "df_argenprop = pd.read_excel(ruta_base + \"/Bases scrapeo/scraping_3amb_2024-12-14.xlsx\")"
   ]
  },
  {
   "cell_type": "code",
   "execution_count": 22,
   "metadata": {
    "executionInfo": {
     "elapsed": 303,
     "status": "ok",
     "timestamp": 1734211459387,
     "user": {
      "displayName": "Emilia Tamburri",
      "userId": "17117273758502134592"
     },
     "user_tz": 180
    },
    "id": "Lt5h0Uk6QFeE"
   },
   "outputs": [],
   "source": [
    "#Separamos la moneda (USD o $) del valor del precio en dos columnas\n",
    "df_temp = df_argenprop['Precio'].str.split(' ', expand = True)\n",
    "df_argenprop['Moneda'] = df_temp[0]\n",
    "df_argenprop['Precio'] = df_temp[1]\n"
   ]
  },
  {
   "cell_type": "code",
   "execution_count": null,
   "metadata": {
    "colab": {
     "base_uri": "https://localhost:8080/",
     "height": 423
    },
    "executionInfo": {
     "elapsed": 241,
     "status": "ok",
     "timestamp": 1734211462270,
     "user": {
      "displayName": "Emilia Tamburri",
      "userId": "17117273758502134592"
     },
     "user_tz": 180
    },
    "id": "6V5ZZHMkE3dy",
    "outputId": "9ebcc6a9-13d1-4168-f69d-5a4f2da99d6d"
   },
   "outputs": [],
   "source": [
    "df_argenprop"
   ]
  },
  {
   "cell_type": "markdown",
   "metadata": {},
   "source": [
    "# Limpieza y análisis"
   ]
  },
  {
   "cell_type": "code",
   "execution_count": null,
   "metadata": {
    "colab": {
     "base_uri": "https://localhost:8080/"
    },
    "executionInfo": {
     "elapsed": 257,
     "status": "ok",
     "timestamp": 1734211466227,
     "user": {
      "displayName": "Emilia Tamburri",
      "userId": "17117273758502134592"
     },
     "user_tz": 180
    },
    "id": "0V51ZxQQMzQ5",
    "outputId": "ce8e50d7-dc0c-4da0-af01-5c6aa95247a6"
   },
   "outputs": [],
   "source": [
    "# Sacamos los puntos para que el precio sea solo número\n",
    "df_argenprop['Precio'] = df_argenprop['Precio'].str.replace(\".\", \"\")\n",
    "# Convertimos la columna precio a valores numéricos\n",
    "df_argenprop[\"Precio\"] = pd.to_numeric(df_argenprop[\"Precio\"], errors=\"coerce\")\n",
    "# eliminamos los casos vacíos\n",
    "df_argenprop = df_argenprop.dropna()\n",
    "# Convertimos la columna precio a int\n",
    "df_argenprop[\"Precio\"] = df_argenprop[\"Precio\"].astype(int)\n",
    "\n",
    "#Reseteamos el index\n",
    "df_argenprop = df_argenprop.reset_index(drop=True)"
   ]
  },
  {
   "cell_type": "code",
   "execution_count": null,
   "metadata": {
    "colab": {
     "base_uri": "https://localhost:8080/",
     "height": 423
    },
    "executionInfo": {
     "elapsed": 248,
     "status": "ok",
     "timestamp": 1734211469675,
     "user": {
      "displayName": "Emilia Tamburri",
      "userId": "17117273758502134592"
     },
     "user_tz": 180
    },
    "id": "XX6EyYi1Idx7",
    "outputId": "c995dd4a-8369-4612-8c7e-50b167de1223"
   },
   "outputs": [],
   "source": [
    "df_argenprop"
   ]
  },
  {
   "cell_type": "code",
   "execution_count": null,
   "metadata": {
    "colab": {
     "base_uri": "https://localhost:8080/"
    },
    "executionInfo": {
     "elapsed": 241,
     "status": "ok",
     "timestamp": 1734211475070,
     "user": {
      "displayName": "Emilia Tamburri",
      "userId": "17117273758502134592"
     },
     "user_tz": 180
    },
    "id": "x_RNcPaWIuVJ",
    "outputId": "8a84df28-59f3-41f0-881b-730145e7c02a"
   },
   "outputs": [],
   "source": [
    "# Verificamos que precio haya quedado como integer\n",
    "df_argenprop['Precio'].dtype"
   ]
  },
  {
   "cell_type": "code",
   "execution_count": 27,
   "metadata": {
    "executionInfo": {
     "elapsed": 273,
     "status": "ok",
     "timestamp": 1734211476761,
     "user": {
      "displayName": "Emilia Tamburri",
      "userId": "17117273758502134592"
     },
     "user_tz": 180
    },
    "id": "6cWCiOYiPTlz"
   },
   "outputs": [],
   "source": [
    "# Definimos comunas\n",
    "COMUNA1 = ['Retiro', 'San Nicolás', 'Puerto Madero', 'San Telmo', 'Monserrat', \"Montserrat\", 'Constitución', \"Tribunales\", \"Constitucion\", \"Barrio San Pedro\", \"Centro\", \"Microcentro\"]\n",
    "COMUNA2 = ['Recoleta', \"Barrio Norte\", \"Plaza San Martín\"]\n",
    "COMUNA3 = ['Balvanera', 'San Cristóbal', \"Abasto\", \"Congreso\", \"Once\", \"San Cristobal\"]\n",
    "COMUNA4  = ['La Boca', 'Barracas', 'Parque Patricios', 'Nueva Pompeya', \"Boca\", \"Pompeya\", \"Catalinas\"]\n",
    "COMUNA5  = ['Almagro' , 'Boedo', \"Almagro Norte\", \"Almagro Sur\"]\n",
    "COMUNA6  = ['Caballito', \"Caballito Norte\", \"Caballito Sur\", \"Cid Campeador\", \"Parque Rivadavia\", \"Parque Centenario\", \"Primera Junta\"]\n",
    "COMUNA7  = ['Flores' , 'Parque Chacabuco', \"Flores Norte\", \"Flores Sur\"]\n",
    "COMUNA8  = ['Villa Soldati', 'Villa Riachuelo' , 'Villa Lugano']\n",
    "COMUNA9  = ['Liniers', 'Mataderos' , 'Parque Avellaneda']\n",
    "COMUNA10 = ['Villa Real','Monte Castro','Versalles','Floresta','Vélez Sarfield', \"Velez Sarsfield\", 'Villa Luro', \"Floresta Sur\", \"Floresta Norte\"]\n",
    "COMUNA11 = ['Villa General Mitre','Villa Devoto','Villa del Parque', 'Villa Santa Rita']\n",
    "COMUNA12 = ['Coghlan','Saavedra','Villa Urquiza' , 'Villa Pueyrredón', \"Villa Pueyrredon\", \"Urquiza R\"]\n",
    "COMUNA13 = ['Núñez', \"Nuñez\", 'Belgrano','Colegiales', \"Belgrano Barrancas\", \"Belgrano C\", \"Belgrano R\", \"Belgrano Chico\", \"Lomas de Nuñez\", \"River\"]\n",
    "COMUNA14 = ['Palermo', \"Botanico\", \"Parque Las Heras\", \"Las Cañitas\", \"Palermo Chico\", \"Palermo Hollywood\", \"Palermo Nuevo\", \"Palermo Soho\", \"Palermo Viejo\", ]\n",
    "COMUNA15 = ['Chacarita','Villa Crespo','La Paternal','Villa Ortúzar', \"Villa Ortuzar\", 'Agronomía' ,'Parque Chas', \"Agronomia\", \"Paternal\"]"
   ]
  },
  {
   "cell_type": "code",
   "execution_count": 28,
   "metadata": {
    "executionInfo": {
     "elapsed": 234,
     "status": "ok",
     "timestamp": 1734211479507,
     "user": {
      "displayName": "Emilia Tamburri",
      "userId": "17117273758502134592"
     },
     "user_tz": 180
    },
    "id": "Pf-4c9cDPTlz"
   },
   "outputs": [],
   "source": [
    "# Definimos una función para asignar comuna al barrio\n",
    "comunas = [COMUNA1, COMUNA2, COMUNA3, COMUNA4, COMUNA5, COMUNA6, COMUNA7, COMUNA8, COMUNA9, COMUNA10, COMUNA11, COMUNA12, COMUNA13, COMUNA14, COMUNA15,]\n",
    "def barrio2comuna(barrio):\n",
    "  for c in range(0,15):\n",
    "    if barrio in comunas[c]:\n",
    "      return(c+1)\n",
    "  return('No se encuentra')"
   ]
  },
  {
   "cell_type": "code",
   "execution_count": null,
   "metadata": {
    "colab": {
     "base_uri": "https://localhost:8080/"
    },
    "collapsed": true,
    "executionInfo": {
     "elapsed": 243,
     "status": "ok",
     "timestamp": 1734211481709,
     "user": {
      "displayName": "Emilia Tamburri",
      "userId": "17117273758502134592"
     },
     "user_tz": 180
    },
    "id": "kd4IfSRRPTlz",
    "outputId": "6ed1d172-886d-4c7b-ea35-b00283810d85"
   },
   "outputs": [],
   "source": [
    "#Aplicamos la función barrio2comuna solo a las filas de la columna Barrio\n",
    "df_argenprop['Comuna'] = df_argenprop['Barrio'].apply(barrio2comuna)\n",
    "\n",
    "print(df_argenprop)"
   ]
  },
  {
   "cell_type": "code",
   "execution_count": 30,
   "metadata": {
    "executionInfo": {
     "elapsed": 244,
     "status": "ok",
     "timestamp": 1734211484552,
     "user": {
      "displayName": "Emilia Tamburri",
      "userId": "17117273758502134592"
     },
     "user_tz": 180
    },
    "id": "jXVW3zTQP-RY"
   },
   "outputs": [],
   "source": [
    "# Usamos filtro para chequear que todos los barrios se identifiquen con una comuna y, en caso contrario, asignar el barrio a la comuna\n",
    "\n",
    "filtro = df_argenprop['Comuna'] == 'No se encuentra'\n",
    "df_filtrado_sincomunas = df_argenprop[filtro]\n",
    "\n",
    "df_filtrado_sincomunas\n",
    "\n",
    "df_filtrado_sincomunas.to_excel(ruta_base + '/Tablas y bases análisis scraping/argenprop_comunas_missing_3amb.xlsx', index=False)"
   ]
  },
  {
   "cell_type": "code",
   "execution_count": null,
   "metadata": {
    "colab": {
     "base_uri": "https://localhost:8080/",
     "height": 89
    },
    "executionInfo": {
     "elapsed": 255,
     "status": "ok",
     "timestamp": 1734211486712,
     "user": {
      "displayName": "Emilia Tamburri",
      "userId": "17117273758502134592"
     },
     "user_tz": 180
    },
    "id": "KHHFH_3xVZak",
    "outputId": "04cfeb9f-fadc-43a9-a92f-2c7f8491f581"
   },
   "outputs": [],
   "source": [
    "df_filtrado_sincomunas"
   ]
  },
  {
   "cell_type": "code",
   "execution_count": 32,
   "metadata": {
    "executionInfo": {
     "elapsed": 242,
     "status": "ok",
     "timestamp": 1734211492571,
     "user": {
      "displayName": "Emilia Tamburri",
      "userId": "17117273758502134592"
     },
     "user_tz": 180
    },
    "id": "RiDkdUSEQZaB"
   },
   "outputs": [],
   "source": [
    "#Filtramos los valores en pesos para deshacernos de valores con errores / outliers\n",
    "filtro = (df_argenprop[\"Precio\"] > 200000) & (df_argenprop[\"Precio\"] < 5000000) & (df_argenprop[\"Moneda\"] == '$')\n",
    "df_filtrado_pesos = df_argenprop[filtro]\n",
    "\n",
    "#Reseteamos el index\n",
    "df_filtrado_pesos = df_filtrado_pesos.reset_index(drop=True)"
   ]
  },
  {
   "cell_type": "code",
   "execution_count": null,
   "metadata": {
    "colab": {
     "base_uri": "https://localhost:8080/",
     "height": 423
    },
    "executionInfo": {
     "elapsed": 245,
     "status": "ok",
     "timestamp": 1734211495453,
     "user": {
      "displayName": "Emilia Tamburri",
      "userId": "17117273758502134592"
     },
     "user_tz": 180
    },
    "id": "qvFfn27fODvJ",
    "outputId": "a7e00209-231d-42a0-8f28-c24dee64b76f"
   },
   "outputs": [],
   "source": [
    "df_filtrado_pesos"
   ]
  },
  {
   "cell_type": "code",
   "execution_count": null,
   "metadata": {
    "colab": {
     "base_uri": "https://localhost:8080/",
     "height": 335
    },
    "executionInfo": {
     "elapsed": 238,
     "status": "ok",
     "timestamp": 1734211498696,
     "user": {
      "displayName": "Emilia Tamburri",
      "userId": "17117273758502134592"
     },
     "user_tz": 180
    },
    "id": "9ffykVIF1WqP",
    "outputId": "4bb12248-bc3a-4157-8741-4c85c20e7355"
   },
   "outputs": [],
   "source": [
    "pd.set_option('display.float_format', '{:,.0f}'.format) # Le pedimos que no use notación científica\n",
    "df_filtrado_pesos['Precio'].describe()"
   ]
  },
  {
   "cell_type": "code",
   "execution_count": 35,
   "metadata": {
    "executionInfo": {
     "elapsed": 354,
     "status": "ok",
     "timestamp": 1734214436609,
     "user": {
      "displayName": "Emilia Tamburri",
      "userId": "17117273758502134592"
     },
     "user_tz": 180
    },
    "id": "hxNHB3rVQa-C"
   },
   "outputs": [],
   "source": [
    "#Hacemos lo mismo con los valores en dólares\n",
    "filtro = (df_argenprop[\"Precio\"] > 100) & (df_argenprop['Precio'] < 5100) & (df_argenprop[\"Moneda\"] == 'USD')\n",
    "df_filtrado_dolares = df_argenprop[filtro]\n",
    "\n",
    "#Reseteamos el index\n",
    "df_filtrado_dolares = df_filtrado_dolares.reset_index(drop=True)"
   ]
  },
  {
   "cell_type": "code",
   "execution_count": null,
   "metadata": {
    "colab": {
     "base_uri": "https://localhost:8080/",
     "height": 423
    },
    "collapsed": true,
    "executionInfo": {
     "elapsed": 277,
     "status": "ok",
     "timestamp": 1734214438385,
     "user": {
      "displayName": "Emilia Tamburri",
      "userId": "17117273758502134592"
     },
     "user_tz": 180
    },
    "id": "3LvelW0pOxQ2",
    "outputId": "32ee956e-f6d2-4a7d-b621-d23f7dcb88a4"
   },
   "outputs": [],
   "source": [
    "df_filtrado_dolares"
   ]
  },
  {
   "cell_type": "code",
   "execution_count": null,
   "metadata": {
    "colab": {
     "base_uri": "https://localhost:8080/",
     "height": 335
    },
    "executionInfo": {
     "elapsed": 327,
     "status": "ok",
     "timestamp": 1734214441949,
     "user": {
      "displayName": "Emilia Tamburri",
      "userId": "17117273758502134592"
     },
     "user_tz": 180
    },
    "id": "WDzTxk5Dzua4",
    "outputId": "e04feec1-94f9-428e-c5e0-8334bdf95a31"
   },
   "outputs": [],
   "source": [
    "df_filtrado_dolares['Precio'].describe()"
   ]
  },
  {
   "cell_type": "code",
   "execution_count": 38,
   "metadata": {
    "executionInfo": {
     "elapsed": 240,
     "status": "ok",
     "timestamp": 1734211525318,
     "user": {
      "displayName": "Emilia Tamburri",
      "userId": "17117273758502134592"
     },
     "user_tz": 180
    },
    "id": "lO_R8fn413Iw"
   },
   "outputs": [],
   "source": [
    "#Importamos precios históricos del dólar blue por día\n",
    "df_dolar = pd.read_excel(ruta_base + \"/Bases auxiliares/dolar blue histórico.xlsx\")"
   ]
  },
  {
   "cell_type": "code",
   "execution_count": 39,
   "metadata": {
    "executionInfo": {
     "elapsed": 252,
     "status": "ok",
     "timestamp": 1734211527781,
     "user": {
      "displayName": "Emilia Tamburri",
      "userId": "17117273758502134592"
     },
     "user_tz": 180
    },
    "id": "Hm4UtOKJ2D_l"
   },
   "outputs": [],
   "source": [
    "# Nos quedamos con las columnas de precio de venta y fecha\n",
    "df_dolar = df_dolar.drop('Compra', axis = 1)"
   ]
  },
  {
   "cell_type": "code",
   "execution_count": null,
   "metadata": {
    "colab": {
     "base_uri": "https://localhost:8080/",
     "height": 147
    },
    "executionInfo": {
     "elapsed": 249,
     "status": "ok",
     "timestamp": 1734211539361,
     "user": {
      "displayName": "Emilia Tamburri",
      "userId": "17117273758502134592"
     },
     "user_tz": 180
    },
    "id": "Uucplm562Fnc",
    "outputId": "150ab6ed-565f-498b-86a1-20aeff022dad"
   },
   "outputs": [],
   "source": [
    "#Verificamos que la columna Fecha esté seteada como datetime\n",
    "df_dolar.dtypes"
   ]
  },
  {
   "cell_type": "code",
   "execution_count": null,
   "metadata": {
    "colab": {
     "base_uri": "https://localhost:8080/",
     "height": 241
    },
    "executionInfo": {
     "elapsed": 245,
     "status": "ok",
     "timestamp": 1734211541718,
     "user": {
      "displayName": "Emilia Tamburri",
      "userId": "17117273758502134592"
     },
     "user_tz": 180
    },
    "id": "SJU3auBO2IF1",
    "outputId": "c79fb0af-de54-45a7-b52c-d1ee6ca2d8dc"
   },
   "outputs": [],
   "source": [
    "# Verificamos lo mismo para la columna fecha del df_filtrado_dolares\n",
    "df_filtrado_dolares.dtypes"
   ]
  },
  {
   "cell_type": "code",
   "execution_count": 42,
   "metadata": {
    "executionInfo": {
     "elapsed": 271,
     "status": "ok",
     "timestamp": 1734214472823,
     "user": {
      "displayName": "Emilia Tamburri",
      "userId": "17117273758502134592"
     },
     "user_tz": 180
    },
    "id": "Y4BrSucc2ceI"
   },
   "outputs": [],
   "source": [
    "# Hacemos un merge que permita asignar a cada fila el valor del dólar de acuerdo con la fecha en que fue scrapeado\n",
    "df_dolar_a_pesos = pd.merge(df_filtrado_dolares, df_dolar, on='Fecha', how='left')"
   ]
  },
  {
   "cell_type": "code",
   "execution_count": null,
   "metadata": {
    "colab": {
     "base_uri": "https://localhost:8080/",
     "height": 423
    },
    "executionInfo": {
     "elapsed": 270,
     "status": "ok",
     "timestamp": 1734214475323,
     "user": {
      "displayName": "Emilia Tamburri",
      "userId": "17117273758502134592"
     },
     "user_tz": 180
    },
    "id": "cB_lQNzW2vKr",
    "outputId": "3e3857f1-a514-4484-bef4-bcbf81275529"
   },
   "outputs": [],
   "source": [
    "df_dolar_a_pesos"
   ]
  },
  {
   "cell_type": "code",
   "execution_count": null,
   "metadata": {
    "colab": {
     "base_uri": "https://localhost:8080/",
     "height": 423
    },
    "executionInfo": {
     "elapsed": 292,
     "status": "ok",
     "timestamp": 1734214483670,
     "user": {
      "displayName": "Emilia Tamburri",
      "userId": "17117273758502134592"
     },
     "user_tz": 180
    },
    "id": "Y3op8fDq3hn0",
    "outputId": "941e471a-2d92-47fa-b7db-f1e4d0293e7d"
   },
   "outputs": [],
   "source": [
    "# Renombramos la columna del precio del dólar\n",
    "df_dolar_a_pesos = df_dolar_a_pesos.rename(columns = {'Venta' : 'Precio dólar'})\n",
    "df_dolar_a_pesos"
   ]
  },
  {
   "cell_type": "code",
   "execution_count": 45,
   "metadata": {
    "executionInfo": {
     "elapsed": 239,
     "status": "ok",
     "timestamp": 1734214486466,
     "user": {
      "displayName": "Emilia Tamburri",
      "userId": "17117273758502134592"
     },
     "user_tz": 180
    },
    "id": "-Framl5n4diZ"
   },
   "outputs": [],
   "source": [
    "# Pasamos el df en dólares a pesos al precio del dolar blue del día en que se realizó el scrapeo\n",
    "df_dolar_a_pesos['Precio'] = df_dolar_a_pesos['Precio'] * df_dolar_a_pesos['Precio dólar']\n",
    "df_dolar_a_pesos[\"Precio\"] = pd.to_numeric(df_dolar_a_pesos[\"Precio\"], errors=\"coerce\")\n",
    "df_dolar_a_pesos = df_dolar_a_pesos.drop('Precio dólar', axis = 1)\n",
    "df_dolar_a_pesos['Moneda'] = '$'"
   ]
  },
  {
   "cell_type": "code",
   "execution_count": null,
   "metadata": {
    "colab": {
     "base_uri": "https://localhost:8080/",
     "height": 423
    },
    "executionInfo": {
     "elapsed": 303,
     "status": "ok",
     "timestamp": 1734214488769,
     "user": {
      "displayName": "Emilia Tamburri",
      "userId": "17117273758502134592"
     },
     "user_tz": 180
    },
    "id": "STP84MaH44D8",
    "outputId": "2aa89525-b91b-4ff9-e6d7-37f772c9db31"
   },
   "outputs": [],
   "source": [
    "df_dolar_a_pesos"
   ]
  },
  {
   "cell_type": "code",
   "execution_count": null,
   "metadata": {
    "colab": {
     "base_uri": "https://localhost:8080/",
     "height": 423
    },
    "collapsed": true,
    "executionInfo": {
     "elapsed": 283,
     "status": "ok",
     "timestamp": 1734214493383,
     "user": {
      "displayName": "Emilia Tamburri",
      "userId": "17117273758502134592"
     },
     "user_tz": 180
    },
    "id": "IErQGJqHYBRE",
    "outputId": "048b4e7c-ee63-4e41-cad1-c513ddb9a1f2"
   },
   "outputs": [],
   "source": [
    "# Creamos un df con todos los valores en pesos para poder trabajar con todos los casos y sea comparable\n",
    "df_unido = pd.concat([df_dolar_a_pesos, df_filtrado_pesos], ignore_index = True)\n",
    "\n",
    "df_unido"
   ]
  },
  {
   "cell_type": "markdown",
   "metadata": {},
   "source": [
    "## Tablas resumen"
   ]
  },
  {
   "cell_type": "code",
   "execution_count": null,
   "metadata": {
    "colab": {
     "base_uri": "https://localhost:8080/"
    },
    "executionInfo": {
     "elapsed": 249,
     "status": "ok",
     "timestamp": 1734214496247,
     "user": {
      "displayName": "Emilia Tamburri",
      "userId": "17117273758502134592"
     },
     "user_tz": 180
    },
    "id": "TIrSH5g_1_A2",
    "outputId": "c334ce69-24f9-455e-c664-d33dc4af9f4d"
   },
   "outputs": [],
   "source": [
    "# Armamos tabla con medidas resumen del df unido\n",
    "pd.set_option('display.float_format', '{:,.0f}'.format) # Le pedimos que no use notación científica\n",
    "df_tablas_resumen = df_unido['Precio'].describe()\n",
    "\n",
    "print(df_tablas_resumen)\n",
    "\n",
    "df_tablas_resumen.to_excel(ruta_base + '/Tablas y bases análisis scraping/Tabla_resumen_caba_3amb.xlsx')"
   ]
  },
  {
   "cell_type": "code",
   "execution_count": null,
   "metadata": {
    "colab": {
     "base_uri": "https://localhost:8080/"
    },
    "executionInfo": {
     "elapsed": 268,
     "status": "ok",
     "timestamp": 1734214510007,
     "user": {
      "displayName": "Emilia Tamburri",
      "userId": "17117273758502134592"
     },
     "user_tz": 180
    },
    "id": "JVmJBaTh3-Vy",
    "outputId": "589b2839-44ab-477d-b02c-df652a3fb52c"
   },
   "outputs": [],
   "source": [
    "# Armamos un groupby para sacar estadísticos por comuna\n",
    "df_estadisticasxcomuna = df_unido.groupby(\"Comuna\", as_index=False)[\"Precio\"].describe()\n",
    "\n",
    "print(df_estadisticasxcomuna)\n",
    "\n",
    "df_estadisticasxcomuna.to_excel(ruta_base + '/Tablas y bases análisis scraping/Estadisticas_por_comuna_3amb.xlsx')"
   ]
  },
  {
   "cell_type": "code",
   "execution_count": null,
   "metadata": {
    "colab": {
     "base_uri": "https://localhost:8080/"
    },
    "collapsed": true,
    "executionInfo": {
     "elapsed": 233,
     "status": "ok",
     "timestamp": 1734214517888,
     "user": {
      "displayName": "Emilia Tamburri",
      "userId": "17117273758502134592"
     },
     "user_tz": 180
    },
    "id": "xWkduTVTd5jt",
    "outputId": "69483394-3448-4a16-f461-2976656d6c4c"
   },
   "outputs": [],
   "source": [
    "# Armamos un groupby para sacar precio promedio por comuna\n",
    "df_promedioxcomuna = df_unido.groupby(\"Comuna\", as_index=False)[\"Precio\"].mean()\n",
    "df_promedioxcomuna['Precio'] = df_promedioxcomuna['Precio'].round(1) #Redondeamos a 1 decimal\n",
    "# Renombramos la columna\n",
    "df_promedioxcomuna.rename(columns={\"Precio\": \"Precio promedio\"}, inplace=True)\n",
    "\n",
    "print(df_promedioxcomuna)\n"
   ]
  },
  {
   "cell_type": "code",
   "execution_count": null,
   "metadata": {
    "colab": {
     "base_uri": "https://localhost:8080/",
     "height": 519
    },
    "collapsed": true,
    "executionInfo": {
     "elapsed": 257,
     "status": "ok",
     "timestamp": 1734214522321,
     "user": {
      "displayName": "Emilia Tamburri",
      "userId": "17117273758502134592"
     },
     "user_tz": 180
    },
    "id": "0Eh4cMrfihEW",
    "outputId": "627d8a48-2ad1-40a7-f31e-55be3958a608"
   },
   "outputs": [],
   "source": [
    "# Armamos groupby para ver cantidad de publicaciones por comuna\n",
    "df_publicaciones_xcomuna = df_unido.groupby(\"Comuna\", as_index=False)['Precio'].count()\n",
    "# Cambiamos nombre de la columna\n",
    "df_publicaciones_xcomuna.rename(columns={\"Precio\": \"Cantidad de publicaciones\"}, inplace=True)\n",
    "\n",
    "df_publicaciones_xcomuna"
   ]
  },
  {
   "cell_type": "markdown",
   "metadata": {},
   "source": [
    "## Gráficos"
   ]
  },
  {
   "cell_type": "code",
   "execution_count": 52,
   "metadata": {
    "executionInfo": {
     "elapsed": 276,
     "status": "ok",
     "timestamp": 1734214754605,
     "user": {
      "displayName": "Emilia Tamburri",
      "userId": "17117273758502134592"
     },
     "user_tz": 180
    },
    "id": "_ctnfIdhZYx_"
   },
   "outputs": [],
   "source": [
    "# subimos archivo geográfico de comunas de caba\n",
    "comunas = gpd.read_file(ruta_base + \"/Archivos geográficos comunas/comunas.shp\")"
   ]
  },
  {
   "cell_type": "code",
   "execution_count": null,
   "metadata": {
    "colab": {
     "base_uri": "https://localhost:8080/",
     "height": 519
    },
    "collapsed": true,
    "executionInfo": {
     "elapsed": 441,
     "status": "ok",
     "timestamp": 1734214758567,
     "user": {
      "displayName": "Emilia Tamburri",
      "userId": "17117273758502134592"
     },
     "user_tz": 180
    },
    "id": "G5jbO15Ibnnn",
    "outputId": "2004eedb-179a-47aa-e9e1-9aa3af025ffa"
   },
   "outputs": [],
   "source": [
    "comunas"
   ]
  },
  {
   "cell_type": "code",
   "execution_count": 54,
   "metadata": {
    "executionInfo": {
     "elapsed": 267,
     "status": "ok",
     "timestamp": 1734214762993,
     "user": {
      "displayName": "Emilia Tamburri",
      "userId": "17117273758502134592"
     },
     "user_tz": 180
    },
    "id": "iOuI-L2IbQYc"
   },
   "outputs": [],
   "source": [
    "# Mergeamos los datos geográficos de comunas con nuestro df de precio promedio por comuna con key = comuna\n",
    "comunas_mapa_precio = comunas.merge(df_promedioxcomuna, left_on= 'comuna', right_on= 'Comuna')"
   ]
  },
  {
   "cell_type": "code",
   "execution_count": null,
   "metadata": {
    "colab": {
     "base_uri": "https://localhost:8080/",
     "height": 797
    },
    "executionInfo": {
     "elapsed": 239,
     "status": "ok",
     "timestamp": 1734214764586,
     "user": {
      "displayName": "Emilia Tamburri",
      "userId": "17117273758502134592"
     },
     "user_tz": 180
    },
    "id": "ulc2654KcQxZ",
    "outputId": "6accef9e-7734-4953-fe2b-94f240a11a9f"
   },
   "outputs": [],
   "source": [
    "# Verificamos el merge\n",
    "comunas_mapa_precio"
   ]
  },
  {
   "cell_type": "code",
   "execution_count": null,
   "metadata": {
    "colab": {
     "base_uri": "https://localhost:8080/",
     "height": 807
    },
    "executionInfo": {
     "elapsed": 1557,
     "status": "ok",
     "timestamp": 1734215059534,
     "user": {
      "displayName": "Emilia Tamburri",
      "userId": "17117273758502134592"
     },
     "user_tz": 180
    },
    "id": "fDo_VixcdKpx",
    "outputId": "dd866ce9-7884-491f-b853-cde924d5d6d6"
   },
   "outputs": [],
   "source": [
    "# Graficamos mapa precio promedio por comuna\n",
    "\n",
    "fig, ax = plt.subplots(1, 1, figsize=(10, 10))\n",
    "comunas_mapa_precio.plot(\n",
    "    column=\"Precio promedio\",\n",
    "    ax=ax,\n",
    "    cmap=\"Blues\",\n",
    "    vmin = 500000,\n",
    "    vmax = 1300000,\n",
    "    edgecolor=\"black\")\n",
    "\n",
    "# Acá admitimos que le pedimos mucha ayuda a ChatGPT que nos armó un for para asignar las etiquetas a las comunas correspondientes\n",
    "\n",
    "for idx, row in comunas_mapa_precio.iterrows():\n",
    "    # Obtenemos el centroide de la geometría para colocar la etiqueta\n",
    "    centroid = row.geometry.centroid\n",
    "    # Agregamos la etiqueta en el centroide, usando el valor de la columna correspondiente\n",
    "    ax.text(centroid.x, centroid.y,\n",
    "            f'{row[\"Precio promedio\"]}',\n",
    "            fontsize=8,\n",
    "            ha='center',\n",
    "            color='black')\n",
    "\n",
    "plt.xticks([])\n",
    "plt.yticks([])\n",
    "plt.show()"
   ]
  },
  {
   "cell_type": "code",
   "execution_count": null,
   "metadata": {
    "colab": {
     "base_uri": "https://localhost:8080/",
     "height": 797
    },
    "collapsed": true,
    "executionInfo": {
     "elapsed": 835,
     "status": "ok",
     "timestamp": 1734215080237,
     "user": {
      "displayName": "Emilia Tamburri",
      "userId": "17117273758502134592"
     },
     "user_tz": 180
    },
    "id": "ScmODOKenoTh",
    "outputId": "d246b2a7-d6ef-48fe-db4d-4c0756ea6502"
   },
   "outputs": [],
   "source": [
    "# Mergeamos los datos geográficos de comunas con nuestro df de cantidad de publicaciones por comuna con key = comuna\n",
    "comunas_mapa_publicaciones = comunas.merge(df_publicaciones_xcomuna, left_on= 'comuna', right_on= 'Comuna')\n",
    "\n",
    "comunas_mapa_publicaciones"
   ]
  },
  {
   "cell_type": "code",
   "execution_count": null,
   "metadata": {
    "colab": {
     "base_uri": "https://localhost:8080/",
     "height": 807
    },
    "executionInfo": {
     "elapsed": 1379,
     "status": "ok",
     "timestamp": 1734215093107,
     "user": {
      "displayName": "Emilia Tamburri",
      "userId": "17117273758502134592"
     },
     "user_tz": 180
    },
    "id": "FJYyOKitmpV_",
    "outputId": "1c225303-e52a-451d-b5a0-1678d163a123"
   },
   "outputs": [],
   "source": [
    "# Graficamos mapa cantidad de publicaciones por comuna\n",
    "fig, ax = plt.subplots(1, 1, figsize=(10, 10))\n",
    "comunas_mapa_publicaciones.plot(column=\"Cantidad de publicaciones\",\n",
    "             ax=ax,\n",
    "             cmap=\"Greens\",\n",
    "             edgecolor=\"black\")\n",
    "\n",
    "for idx, row in comunas_mapa_publicaciones.iterrows():\n",
    "    centroid = row.geometry.centroid\n",
    "    ax.text(centroid.x, centroid.y,\n",
    "            f'{row[\"Cantidad de publicaciones\"]}',\n",
    "            fontsize=8,\n",
    "            ha='center',\n",
    "            color='black')\n",
    "\n",
    "plt.xticks([])\n",
    "plt.yticks([])\n",
    "plt.show()"
   ]
  },
  {
   "cell_type": "code",
   "execution_count": null,
   "metadata": {
    "colab": {
     "base_uri": "https://localhost:8080/",
     "height": 425
    },
    "executionInfo": {
     "elapsed": 320,
     "status": "ok",
     "timestamp": 1734215118265,
     "user": {
      "displayName": "Emilia Tamburri",
      "userId": "17117273758502134592"
     },
     "user_tz": 180
    },
    "id": "_pRyDWAMpMaR",
    "outputId": "d1c84f42-7e1c-4a83-e15c-0d07ce0f7988"
   },
   "outputs": [],
   "source": [
    "# Hacemos groupby para contar cantidad de publicaciones en dólares por comuna\n",
    "df_publicaciones_dolar = df_filtrado_dolares.groupby(\"Comuna\", as_index=False)['Precio'].count()\n",
    "# Renombramos columna\n",
    "df_publicaciones_dolar.rename(columns={\"Precio\": \"Cantidad de publicaciones en dolares\"}, inplace=True)\n",
    "\n",
    "df_publicaciones_dolar"
   ]
  },
  {
   "cell_type": "code",
   "execution_count": null,
   "metadata": {
    "colab": {
     "base_uri": "https://localhost:8080/",
     "height": 519
    },
    "executionInfo": {
     "elapsed": 268,
     "status": "ok",
     "timestamp": 1734215120929,
     "user": {
      "displayName": "Emilia Tamburri",
      "userId": "17117273758502134592"
     },
     "user_tz": 180
    },
    "id": "o9LQ0F7XrLoU",
    "outputId": "550d2fbb-f9e7-4060-f49f-8a444442929f"
   },
   "outputs": [],
   "source": [
    "# Mergeamos df de cantidad de publicaciones por comuna total con el de cantidad de publicaciones en dólares con key = comuna para poder hacer división despues\n",
    "# usamos how = outer porque teníamos tres comunas sin publicaciones en dólares pero no queríamos perder el dato\n",
    "df_prop_dolar = df_publicaciones_xcomuna.merge(df_publicaciones_dolar, left_on= 'Comuna', right_on= 'Comuna', how='outer')\n",
    "\n",
    "df_prop_dolar"
   ]
  },
  {
   "cell_type": "code",
   "execution_count": null,
   "metadata": {
    "colab": {
     "base_uri": "https://localhost:8080/",
     "height": 519
    },
    "executionInfo": {
     "elapsed": 280,
     "status": "ok",
     "timestamp": 1734215123940,
     "user": {
      "displayName": "Emilia Tamburri",
      "userId": "17117273758502134592"
     },
     "user_tz": 180
    },
    "id": "iBIxyqeqsuNk",
    "outputId": "a8da5655-05e7-4aac-a46c-5f7b15a3965a"
   },
   "outputs": [],
   "source": [
    "# Sacamos proporción de publicaciones en dólares sobre publicaciones totales para cada comuna * 100 (para tenerlo en %)\n",
    "df_prop_dolar['Proporcion de publicaciones en dolares'] = df_prop_dolar['Cantidad de publicaciones en dolares'] / df_prop_dolar['Cantidad de publicaciones'] * 100\n",
    "\n",
    "# Reemplazamos los NaN por ceros\n",
    "df_prop_dolar.fillna(0, inplace=True)\n",
    "# Redondeamos a 2 decimales\n",
    "df_prop_dolar['Proporcion de publicaciones en dolares'] = df_prop_dolar['Proporcion de publicaciones en dolares'].round(2)\n",
    "\n",
    "df_prop_dolar"
   ]
  },
  {
   "cell_type": "code",
   "execution_count": null,
   "metadata": {
    "colab": {
     "base_uri": "https://localhost:8080/",
     "height": 1000
    },
    "executionInfo": {
     "elapsed": 7,
     "status": "ok",
     "timestamp": 1734215127182,
     "user": {
      "displayName": "Emilia Tamburri",
      "userId": "17117273758502134592"
     },
     "user_tz": 180
    },
    "id": "YuSy4PMZuKWL",
    "outputId": "6c6ca6e0-11db-49b2-b8cf-d61bed6a331c"
   },
   "outputs": [],
   "source": [
    "# Mergeamos nuevamente los datos geográficos de comuna con el df de proporción en dólares con key = comuna\n",
    "comunas_prop_dolares = comunas.merge(df_prop_dolar, left_on= 'comuna', right_on= 'Comuna')\n",
    "\n",
    "comunas_prop_dolares"
   ]
  },
  {
   "cell_type": "code",
   "execution_count": null,
   "metadata": {
    "colab": {
     "base_uri": "https://localhost:8080/",
     "height": 807
    },
    "executionInfo": {
     "elapsed": 690,
     "status": "ok",
     "timestamp": 1734215139933,
     "user": {
      "displayName": "Emilia Tamburri",
      "userId": "17117273758502134592"
     },
     "user_tz": 180
    },
    "id": "vJZx67oys8aG",
    "outputId": "2277f937-0c68-4b91-d7cf-6c3ca1ca5d61"
   },
   "outputs": [],
   "source": [
    "# Armamos el ùltimo gráfico de % de publicaciones en dólares por comuna\n",
    "fig, ax = plt.subplots(1, 1, figsize=(10, 10))\n",
    "comunas_prop_dolares.plot(column=\"Proporcion de publicaciones en dolares\",\n",
    "             ax=ax,\n",
    "             cmap=\"Oranges\",\n",
    "             edgecolor=\"black\")\n",
    "\n",
    "for idx, row in comunas_prop_dolares.iterrows():\n",
    "    centroid = row.geometry.centroid\n",
    "    ax.text(centroid.x, centroid.y,\n",
    "            f'{row[\"Proporcion de publicaciones en dolares\"]}',\n",
    "            fontsize=8,\n",
    "            ha='center',\n",
    "            color='black')\n",
    "\n",
    "plt.xticks([])\n",
    "plt.yticks([])\n",
    "plt.show()"
   ]
  }
 ],
 "metadata": {
  "colab": {
   "provenance": []
  },
  "kernelspec": {
   "display_name": "Python 3",
   "name": "python3"
  },
  "language_info": {
   "codemirror_mode": {
    "name": "ipython",
    "version": 3
   },
   "file_extension": ".py",
   "mimetype": "text/x-python",
   "name": "python",
   "nbconvert_exporter": "python",
   "pygments_lexer": "ipython3",
   "version": "3.11.9"
  }
 },
 "nbformat": 4,
 "nbformat_minor": 0
}
